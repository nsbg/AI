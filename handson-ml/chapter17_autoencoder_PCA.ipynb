{
 "cells": [
  {
   "cell_type": "code",
   "execution_count": 8,
   "id": "f25ec3e5",
   "metadata": {},
   "outputs": [],
   "source": [
    "# 3D 데이터셋에 PCA(주성분 분석)를 적용해 2D에 투영하는 간단한 선형 오토인코더\n",
    "\n",
    "from tensorflow import keras\n",
    "import numpy as np\n",
    "import matplotlib.pyplot as plt\n",
    "\n",
    "encoder = keras.models.Sequential([keras.layers.Dense(2, input_shape=[3])])\n",
    "decoder = keras.models.Sequential([keras.layers.Dense(3, input_shape=[2])])\n",
    "\n",
    "autoencoder = keras.models.Sequential([encoder, decoder])"
   ]
  },
  {
   "cell_type": "code",
   "execution_count": 2,
   "id": "e222a2e1",
   "metadata": {},
   "outputs": [],
   "source": [
    "np.random.seed(4)\n",
    "\n",
    "def generate_3d_data(m, w1=0.1, w2=0.3, noise=0.1):\n",
    "    angles = np.random.rand(m) * 3 * np.pi / 2 - 0.5\n",
    "    data = np.empty((m, 3))\n",
    "    data[:, 0] = np.cos(angles) + np.sin(angles)/2 + noise * np.random.randn(m) / 2\n",
    "    data[:, 1] = np.sin(angles) * 0.7 + noise * np.random.randn(m) / 2\n",
    "    data[:, 2] = data[:, 0] * w1 + data[:, 1] * w2 + noise * np.random.randn(m)\n",
    "    \n",
    "    return data\n",
    "\n",
    "X_train = generate_3d_data(60)\n",
    "X_train = X_train - X_train.mean(axis=0, keepdims=0)"
   ]
  },
  {
   "cell_type": "code",
   "execution_count": 3,
   "id": "ba923ba2",
   "metadata": {},
   "outputs": [],
   "source": [
    "autoencoder.compile(loss=\"mse\", optimizer=keras.optimizers.SGD(lr=0.1))"
   ]
  },
  {
   "cell_type": "markdown",
   "id": "a09926a0",
   "metadata": {},
   "source": [
    "### 코드의 특징\n",
    "\n",
    "MLP와 크게 다르지 않지만 짚고 넘어갈 것은\n",
    "\n",
    "•\t오토인코더를 인코더와 디코더 두 개 컴포넌트로 구성합니다. 둘 다 하나의 Dense 층을 가진 일반적인 Sequential 모델입니다. 오토인코더는 인코더 다음에 디코더가 뒤따르는 Sequential 모델입니다(케라스 모델은 다른 모델의 층으로 사용할 수 있다는 것을 기억하세요).\n",
    "\n",
    "•\t오토인코더의 출력 개수가 입력의 개수와 동일합니다(즉 3개).\n",
    "\n",
    "•\t단순한 PCA를 수행하기 위해서는 활성화 함수를 사용하지 않으며(즉, 모든 뉴런이 선 형입니다), 비용 함수는 MSE입니다. 곧 조금 더 복잡한 오토인코더를 살펴봅니다."
   ]
  },
  {
   "cell_type": "code",
   "execution_count": 4,
   "id": "3dc1dfa1",
   "metadata": {},
   "outputs": [
    {
     "name": "stdout",
     "output_type": "stream",
     "text": [
      "Epoch 1/20\n",
      "2/2 [==============================] - 0s 4ms/step - loss: 0.4338\n",
      "Epoch 2/20\n",
      "2/2 [==============================] - 0s 4ms/step - loss: 0.3189\n",
      "Epoch 3/20\n",
      "2/2 [==============================] - 0s 3ms/step - loss: 0.2434\n",
      "Epoch 4/20\n",
      "2/2 [==============================] - 0s 3ms/step - loss: 0.1932\n",
      "Epoch 5/20\n",
      "2/2 [==============================] - 0s 4ms/step - loss: 0.1549\n",
      "Epoch 6/20\n",
      "2/2 [==============================] - 0s 3ms/step - loss: 0.1278\n",
      "Epoch 7/20\n",
      "2/2 [==============================] - 0s 3ms/step - loss: 0.1066\n",
      "Epoch 8/20\n",
      "2/2 [==============================] - 0s 4ms/step - loss: 0.0912\n",
      "Epoch 9/20\n",
      "2/2 [==============================] - 0s 4ms/step - loss: 0.0791\n",
      "Epoch 10/20\n",
      "2/2 [==============================] - 0s 3ms/step - loss: 0.0699\n",
      "Epoch 11/20\n",
      "2/2 [==============================] - 0s 4ms/step - loss: 0.0625\n",
      "Epoch 12/20\n",
      "2/2 [==============================] - 0s 4ms/step - loss: 0.0573\n",
      "Epoch 13/20\n",
      "2/2 [==============================] - 0s 4ms/step - loss: 0.0534\n",
      "Epoch 14/20\n",
      "2/2 [==============================] - 0s 3ms/step - loss: 0.0502\n",
      "Epoch 15/20\n",
      "2/2 [==============================] - 0s 5ms/step - loss: 0.0477\n",
      "Epoch 16/20\n",
      "2/2 [==============================] - 0s 5ms/step - loss: 0.0458\n",
      "Epoch 17/20\n",
      "2/2 [==============================] - 0s 5ms/step - loss: 0.0444\n",
      "Epoch 18/20\n",
      "2/2 [==============================] - 0s 2ms/step - loss: 0.0432\n",
      "Epoch 19/20\n",
      "2/2 [==============================] - 0s 2ms/step - loss: 0.0424\n",
      "Epoch 20/20\n",
      "2/2 [==============================] - 0s 3ms/step - loss: 0.0411\n"
     ]
    }
   ],
   "source": [
    "history = autoencoder.fit(X_train, X_train, epochs=20)"
   ]
  },
  {
   "cell_type": "code",
   "execution_count": 6,
   "id": "cc06c051",
   "metadata": {},
   "outputs": [],
   "source": [
    "codings = encoder.predict(X_train)"
   ]
  },
  {
   "cell_type": "code",
   "execution_count": 9,
   "id": "45d2e8de",
   "metadata": {},
   "outputs": [
    {
     "data": {
      "image/png": "[encoded data removed]",
      "text/plain": [
       "<Figure size 288x216 with 1 Axes>"
      ]
     },
     "metadata": {
      "needs_background": "light"
     },
     "output_type": "display_data"
    }
   ],
   "source": [
    "fig = plt.figure(figsize=(4,3))\n",
    "plt.plot(codings[:,0], codings[:, 1], \"b.\")\n",
    "plt.xlabel(\"$z_1$\", fontsize=18)\n",
    "plt.ylabel(\"$z_2$\", fontsize=18, rotation=0)\n",
    "plt.grid(True)\n",
    "plt.show()"
   ]
  }
 ],
 "metadata": {
  "kernelspec": {
   "display_name": "Python 3",
   "language": "python",
   "name": "python3"
  },
  "language_info": {
   "codemirror_mode": {
    "name": "ipython",
    "version": 3
   },
   "file_extension": ".py",
   "mimetype": "text/x-python",
   "name": "python",
   "nbconvert_exporter": "python",
   "pygments_lexer": "ipython3",
   "version": "3.8.8"
  }
 },
 "nbformat": 4,
 "nbformat_minor": 5
}
