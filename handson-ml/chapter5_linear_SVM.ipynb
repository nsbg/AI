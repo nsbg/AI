{
  "nbformat": 4,
  "nbformat_minor": 0,
  "metadata": {
    "accelerator": "GPU",
    "colab": {
      "name": "chapter5-linear-SVM.ipynb",
      "provenance": [],
      "collapsed_sections": []
    },
    "kernelspec": {
      "display_name": "Python 3",
      "name": "python3"
    },
    "language_info": {
      "name": "python"
    }
  },
  "cells": [
    {
      "cell_type": "code",
      "metadata": {
        "id": "0Hp3TkoDe1MG"
      },
      "source": [
        "import numpy as np\n",
        "\n",
        "from sklearn import datasets\n",
        "from sklearn.pipeline import Pipeline\n",
        "from sklearn.preprocessing import StandardScaler\n",
        "from sklearn.svm import LinearSVC"
      ],
      "execution_count": 1,
      "outputs": []
    },
    {
      "cell_type": "code",
      "metadata": {
        "id": "rxiMiq1Ge55u"
      },
      "source": [
        "iris = datasets.load_iris()\n",
        "\n",
        "X = iris[\"data\"][:, (2, 3)]                  # 꽃잎 길이, 꽃잎 너비\n",
        "y = (iris[\"target\"] == 2).astype(np.float64) # Iris-Virginica"
      ],
      "execution_count": 2,
      "outputs": []
    },
    {
      "cell_type": "code",
      "metadata": {
        "id": "TKkY2NPFe_5-"
      },
      "source": [
        "svm_clf = Pipeline([\n",
        " (\"scaler\", StandardScaler()),\n",
        " # LinearSVC 클래스 대신 선형 커널을 사용하는 SVC 클래스로 대체 가능\n",
        " (\"linear_svc\", LinearSVC(C=1, loss=\"hinge\")),\n",
        " ])"
      ],
      "execution_count": 4,
      "outputs": []
    },
    {
      "cell_type": "code",
      "metadata": {
        "colab": {
          "base_uri": "https://localhost:8080/"
        },
        "id": "RJF48SDgfHr9",
        "outputId": "ed9800e9-3f7b-47c6-c93d-ce7293416218"
      },
      "source": [
        "svm_clf.fit(X, y)"
      ],
      "execution_count": 5,
      "outputs": [
        {
          "output_type": "execute_result",
          "data": {
            "text/plain": [
              "Pipeline(memory=None,\n",
              "         steps=[('scaler',\n",
              "                 StandardScaler(copy=True, with_mean=True, with_std=True)),\n",
              "                ('linear_svc',\n",
              "                 LinearSVC(C=1, class_weight=None, dual=True,\n",
              "                           fit_intercept=True, intercept_scaling=1,\n",
              "                           loss='hinge', max_iter=1000, multi_class='ovr',\n",
              "                           penalty='l2', random_state=None, tol=0.0001,\n",
              "                           verbose=0))],\n",
              "         verbose=False)"
            ]
          },
          "metadata": {
            "tags": []
          },
          "execution_count": 5
        }
      ]
    },
    {
      "cell_type": "code",
      "metadata": {
        "colab": {
          "base_uri": "https://localhost:8080/"
        },
        "id": "aoeV0XKWfK4m",
        "outputId": "9c373441-fca6-4fee-d682-ff45a05020e2"
      },
      "source": [
        " svm_clf.predict([[5.5, 1.7]])\n",
        " # SVM 분류기는 로지스틱 회귀 분류기와 다르게 클래스에 대한 확률 제공 X"
      ],
      "execution_count": 7,
      "outputs": [
        {
          "output_type": "execute_result",
          "data": {
            "text/plain": [
              "array([1.])"
            ]
          },
          "metadata": {
            "tags": []
          },
          "execution_count": 7
        }
      ]
    },
    {
      "cell_type": "markdown",
      "metadata": {
        "id": "HGbCE96OfnKG"
      },
      "source": [
        "- LinearSVC는 규제에 편향을 포함시키기 때문에 훈련 세트에서 평균을 빼서 중앙에 맞춰야 함\n",
        "\n",
        "- StandardScaler를 사용하여 데이터 스케일을 맞추면 자동으로 설정됨\n",
        "\n",
        "- loss 매개변수를 \n",
        "\"hinge\"로 지정해야 함\n",
        "\n",
        "- 훈련 샘플보다 특성이 많지 않다면 성능을 높이기 위해 dual 매개\n",
        "변수를 False로 지정해야 함"
      ]
    },
    {
      "cell_type": "code",
      "metadata": {
        "id": "a6KjuI_kf6Bb"
      },
      "source": [
        ""
      ],
      "execution_count": null,
      "outputs": []
    }
  ]
}