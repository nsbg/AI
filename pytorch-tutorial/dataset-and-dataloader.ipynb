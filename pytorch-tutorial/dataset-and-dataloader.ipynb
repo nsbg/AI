{
 "cells": [
  {
   "cell_type": "markdown",
   "id": "8590637b",
   "metadata": {},
   "source": [
    "### 데이터셋 불러오기"
   ]
  },
  {
   "cell_type": "markdown",
   "id": "cc7a79d0",
   "metadata": {},
   "source": [
    "- root : train/test 데이터가 저장되는 경로\n",
    "- train : 학습용 또는 테스트용 데이터셋 여부 지정(True면 학습용, False면 테스트용)\n",
    "- download=True : root에 데이터가 없는 경우 인터넷에서 다운로드\n",
    "- transform : 특징(feature) 변형 지정\n",
    "- target_transform : 정답(label) 변형 지정"
   ]
  },
  {
   "cell_type": "code",
   "execution_count": 2,
   "id": "2ac1cf7a",
   "metadata": {},
   "outputs": [],
   "source": [
    "import torch\n",
    "\n",
    "from torch.utils.data import Dataset\n",
    "from torchvision import datasets\n",
    "from torchvision.transforms import ToTensor\n",
    "\n",
    "import matplotlib.pyplot as plt"
   ]
  },
  {
   "cell_type": "code",
   "execution_count": 4,
   "id": "6436bf47",
   "metadata": {},
   "outputs": [],
   "source": [
    "training_data = datasets.FashionMNIST(\n",
    "    root=\"data\",\n",
    "    train=True,\n",
    "    download=True,\n",
    "    transform=ToTensor() # numpy 이미지에서 torch 이미지로 축 변환\n",
    ")\n",
    "\n",
    "test_data = datasets.FashionMNIST(\n",
    "    root=\"data\",\n",
    "    train=False,\n",
    "    download=True,\n",
    "    transform=ToTensor()\n",
    ")"
   ]
  },
  {
   "cell_type": "markdown",
   "id": "203a0f6f",
   "metadata": {},
   "source": [
    "### 데이터셋 순회 및 시각화"
   ]
  },
  {
   "cell_type": "code",
   "execution_count": 6,
   "id": "1bbdf12f",
   "metadata": {},
   "outputs": [
    {
     "data": {
      "image/png": "[encoded data removed]",
      "text/plain": [
       "<Figure size 576x576 with 9 Axes>"
      ]
     },
     "metadata": {
      "needs_background": "light"
     },
     "output_type": "display_data"
    }
   ],
   "source": [
    "labels_map = {\n",
    "    0: \"T-Shirt\",\n",
    "    1: \"Trouser\",\n",
    "    2: \"Pullover\",\n",
    "    3: \"Dress\",\n",
    "    4: \"Coat\",\n",
    "    5: \"Sandal\",\n",
    "    6: \"Shirt\",\n",
    "    7: \"Sneaker\",\n",
    "    8: \"Bag\",\n",
    "    9: \"Ankle Boot\",\n",
    "}\n",
    "\n",
    "figure = plt.figure(figsize=(8, 8))\n",
    "cols, rows = 3, 3\n",
    "\n",
    "for i in range(1, cols*rows+1):\n",
    "    sample_idx = torch.randint(len(training_data), size=(1,)).item()\n",
    "    img, label = training_data[sample_idx]\n",
    "    figure.add_subplot(rows, cols, i)\n",
    "    \n",
    "    plt.title(labels_map[label])\n",
    "    plt.axis(\"off\")\n",
    "    plt.imshow(img.squeeze(), cmap=\"gray\")\n",
    "\n",
    "plt.show()"
   ]
  },
  {
   "cell_type": "markdown",
   "id": "97b5d1a3",
   "metadata": {},
   "source": [
    "### 사용자 정의 Dataset 생성"
   ]
  },
  {
   "cell_type": "markdown",
   "id": "cd940486",
   "metadata": {},
   "source": [
    "사용자 정의 Dataset 클래스는 반드시 __init__, __len__, __getitem__ 함수를 구현해야 함"
   ]
  },
  {
   "cell_type": "code",
   "execution_count": 7,
   "id": "af5d7521",
   "metadata": {},
   "outputs": [],
   "source": [
    "import pandas as pd\n",
    "\n",
    "from torchvision.io import read_image"
   ]
  },
  {
   "cell_type": "code",
   "execution_count": 9,
   "id": "a47aed23",
   "metadata": {},
   "outputs": [],
   "source": [
    "class CustomImageDataset(Dataset):\n",
    "    def __init__(self, annotations_file, img_dir, transform=None, target_transform=None):\n",
    "        self.img_labels = pd.read_csv(annotations_file)\n",
    "        self.img_dir = img_dir\n",
    "        self.transform = transform\n",
    "        self.target_transform = target_transform\n",
    "        \n",
    "    def __len__(self):\n",
    "        return len(self.img_labels)\n",
    "    \n",
    "    def __getitem__(self, idx):\n",
    "        img_path = os.path.join(self.img_dir, self.lmg_labels.iloc[idx, 0])\n",
    "        image = read_image(img_path)\n",
    "        label = self.img_labels.iloc[idx, 1]\n",
    "        \n",
    "        if self.transform:\n",
    "            image = self.transform(image)\n",
    "        \n",
    "        if self.target_transform:\n",
    "            label = self.target_transform(label)\n",
    "        \n",
    "        return image, label"
   ]
  },
  {
   "cell_type": "markdown",
   "id": "90ca720b",
   "metadata": {},
   "source": [
    "- __init__   \n",
    "Dataset 객체가 생성(instantiate)될 때 한 번만 실행됨 -> 이미지와 주석 파일이 포함된 디렉토리와 두 가지 변형 초기화   \n",
    "   \n",
    "   \n",
    "- __len__   \n",
    "데이터셋의 샘플 개수 반환   \n",
    "   \n",
    "   \n",
    "- __getitem__   \n",
    "주어진 인덱스(idx)에 해당하는 샘플을 데이터셋에서 불러오고 반환. 인덱스를 기반으로 디스크에서 이미지의 위치를 식별하고 read_image를 사용하여 이미지를 텐서로 변환하고 self.img_labels의 csv 데이터로부터 해당하는 정답을 가져오고 (해당하는 경우) 변형 함수들을 호출한 뒤, 텐서 이미지와 라벨을 Python dict형으로 반환"
   ]
  },
  {
   "cell_type": "markdown",
   "id": "531541e4",
   "metadata": {},
   "source": [
    "### Dataloader로 학습용 데이터 준비하기"
   ]
  },
  {
   "cell_type": "code",
   "execution_count": 10,
   "id": "9629cde7",
   "metadata": {},
   "outputs": [],
   "source": [
    "from torch.utils.data import DataLoader\n",
    "\n",
    "train_dataloader = DataLoader(training_data, batch_size=64, shuffle=True)\n",
    "test_dataloader = DataLoader(test_data, batch_size=64, shuffle=True)"
   ]
  }
 ],
 "metadata": {
  "kernelspec": {
   "display_name": "Python 3",
   "language": "python",
   "name": "python3"
  },
  "language_info": {
   "codemirror_mode": {
    "name": "ipython",
    "version": 3
   },
   "file_extension": ".py",
   "mimetype": "text/x-python",
   "name": "python",
   "nbconvert_exporter": "python",
   "pygments_lexer": "ipython3",
   "version": "3.8.8"
  }
 },
 "nbformat": 4,
 "nbformat_minor": 5
}
