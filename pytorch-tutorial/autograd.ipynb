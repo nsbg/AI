{
 "cells": [
  {
   "cell_type": "markdown",
   "id": "7c3d28a2",
   "metadata": {},
   "source": [
    "### AUTOGRAD"
   ]
  },
  {
   "cell_type": "markdown",
   "id": "cd1af463",
   "metadata": {},
   "source": [
    "torch.autograd : 자동 미분 엔진"
   ]
  },
  {
   "cell_type": "code",
   "execution_count": 1,
   "id": "c3bd1b48",
   "metadata": {},
   "outputs": [],
   "source": [
    "import torch\n",
    "\n",
    "# requires_grad=True : 텐서의 모든 연산을 추적, Gradient 계산 지원\n",
    "\n",
    "x = torch.ones(5)  # input tensor\n",
    "y = torch.zeros(3) # expected output\n",
    "\n",
    "# w, b : 최적화 해야 하는 매개변수\n",
    "w = torch.randn(5, 3, requires_grad=True)\n",
    "b = torch.randn(3, requires_grad=True)\n",
    "\n",
    "z = torch.matmul(x, w)+b\n",
    "\n",
    "loss = torch.nn.functional.binary_cross_entropy_with_logits(z, y)"
   ]
  },
  {
   "cell_type": "markdown",
   "id": "7e01ec3d",
   "metadata": {},
   "source": [
    "<img src='https://tutorials.pytorch.kr/_images/comp-graph.png'>"
   ]
  },
  {
   "cell_type": "markdown",
   "id": "6762178c",
   "metadata": {},
   "source": [
    "#### 변화도 추적을 멈춰야 하는 이유"
   ]
  },
  {
   "cell_type": "markdown",
   "id": "db151a7b",
   "metadata": {},
   "source": [
    "1. 신경망의 일부 매개 변수를 고정된 매개변수로 표시\n",
    "\n",
    "2. 변화도를 추적하지 않는 텐서의 연산이 더 효율적이기 때문에 순전파 단계만 수행할 때 연산 속도 향상"
   ]
  },
  {
   "cell_type": "markdown",
   "id": "a5b04504",
   "metadata": {},
   "source": [
    "#### 순전파 단계에서 autograd의 역할"
   ]
  },
  {
   "cell_type": "markdown",
   "id": "18daf1ae",
   "metadata": {},
   "source": [
    "- 요청된 연산을 수행하여 결과 텐서 계산\n",
    "- DAG(Directed Acyclic Graph)에 연산의 gradient function 기능 유지"
   ]
  },
  {
   "cell_type": "markdown",
   "id": "a46e5abf",
   "metadata": {},
   "source": [
    "#### 역전파 단계(DAG root에서 backward()가 호출될 때 시작)에서 autograd의 역할\n",
    "- 각 .grad_fn으로부터 변화도 계산\n",
    "- 각 텐서의 .grad 속성에 계산 결과를 쌓고\n",
    "- 연쇄 법칙을 사용하여 모든 leaf 텐서들까지 전파"
   ]
  },
  {
   "cell_type": "code",
   "execution_count": null,
   "id": "e552524b",
   "metadata": {},
   "outputs": [],
   "source": []
  }
 ],
 "metadata": {
  "kernelspec": {
   "display_name": "Python 3",
   "language": "python",
   "name": "python3"
  },
  "language_info": {
   "codemirror_mode": {
    "name": "ipython",
    "version": 3
   },
   "file_extension": ".py",
   "mimetype": "text/x-python",
   "name": "python",
   "nbconvert_exporter": "python",
   "pygments_lexer": "ipython3",
   "version": "3.8.8"
  }
 },
 "nbformat": 4,
 "nbformat_minor": 5
}
