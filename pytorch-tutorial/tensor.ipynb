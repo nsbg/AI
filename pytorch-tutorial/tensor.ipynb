{
 "cells": [
  {
   "cell_type": "code",
   "execution_count": 1,
   "id": "259e65f4",
   "metadata": {},
   "outputs": [],
   "source": [
    "import torch\n",
    "import numpy as np"
   ]
  },
  {
   "cell_type": "markdown",
   "id": "f782e7f5",
   "metadata": {},
   "source": [
    "### 텐서 초기화"
   ]
  },
  {
   "cell_type": "markdown",
   "id": "9466ab20",
   "metadata": {},
   "source": [
    "#### 1) 데이터로부터 직접 생성"
   ]
  },
  {
   "cell_type": "code",
   "execution_count": 2,
   "id": "704dd3a6",
   "metadata": {},
   "outputs": [],
   "source": [
    "data = [[1, 2], [3, 4]]\n",
    "x_data = torch.tensor(data)"
   ]
  },
  {
   "cell_type": "code",
   "execution_count": 3,
   "id": "28e16a5e",
   "metadata": {},
   "outputs": [
    {
     "name": "stdout",
     "output_type": "stream",
     "text": [
      "tensor([[1, 2],\n",
      "        [3, 4]])\n"
     ]
    }
   ],
   "source": [
    "print(x_data)"
   ]
  },
  {
   "cell_type": "markdown",
   "id": "78e33011",
   "metadata": {},
   "source": [
    "#### 2) numpy 배열로부터 생성"
   ]
  },
  {
   "cell_type": "code",
   "execution_count": 4,
   "id": "4e42f72e",
   "metadata": {},
   "outputs": [],
   "source": [
    "np_array = np.array(data)\n",
    "\n",
    "# numpy array 형태인 np_array를 tensor 형태로\n",
    "x_np = torch.from_numpy(np_array)"
   ]
  },
  {
   "cell_type": "code",
   "execution_count": 5,
   "id": "19f3cdb7",
   "metadata": {},
   "outputs": [
    {
     "name": "stdout",
     "output_type": "stream",
     "text": [
      "tensor([[1, 2],\n",
      "        [3, 4]], dtype=torch.int32)\n"
     ]
    }
   ],
   "source": [
    "print(x_np)"
   ]
  },
  {
   "cell_type": "markdown",
   "id": "04581b5a",
   "metadata": {},
   "source": [
    "1), 2)의 차이점 : 2)는 dtype이 같이 출력됨"
   ]
  },
  {
   "cell_type": "markdown",
   "id": "12602181",
   "metadata": {},
   "source": [
    "#### 3) 다른 텐서로부터 생성"
   ]
  },
  {
   "cell_type": "code",
   "execution_count": 6,
   "id": "0bfaf376",
   "metadata": {},
   "outputs": [],
   "source": [
    "# ones_like : 주어진 텐서와 동일한 크기의 텐서를 1로 초기화\n",
    "x_ones = torch.ones_like(x_data)\n",
    "\n",
    "# 인자로 텐서의 속성을 지정한다면 속성이 override됨\n",
    "x_rand = torch.rand_like(x_data, dtype=torch.float)"
   ]
  },
  {
   "cell_type": "markdown",
   "id": "212c349c",
   "metadata": {},
   "source": [
    "#### 4) random 또는 상수 사용"
   ]
  },
  {
   "cell_type": "code",
   "execution_count": 7,
   "id": "7b19fcc8",
   "metadata": {},
   "outputs": [],
   "source": [
    "shape = (2,3,)\n",
    "\n",
    "rand_tensor = torch.rand(shape)\n",
    "ones_tensor = torch.ones(shape)\n",
    "zeros_tensor = torch.zeros(shape)"
   ]
  },
  {
   "cell_type": "code",
   "execution_count": 8,
   "id": "658988d9",
   "metadata": {},
   "outputs": [
    {
     "name": "stdout",
     "output_type": "stream",
     "text": [
      "torch.float32\n",
      "torch.float32\n",
      "torch.float32\n"
     ]
    }
   ],
   "source": [
    "print(rand_tensor.dtype)\n",
    "print(ones_tensor.dtype)\n",
    "print(zeros_tensor.dtype)"
   ]
  },
  {
   "cell_type": "markdown",
   "id": "b6747050",
   "metadata": {},
   "source": [
    "### 텐서의 연산"
   ]
  },
  {
   "cell_type": "markdown",
   "id": "6785f3de",
   "metadata": {},
   "source": [
    "#### 인덱싱과 슬라이싱"
   ]
  },
  {
   "cell_type": "code",
   "execution_count": 9,
   "id": "012c82f4",
   "metadata": {},
   "outputs": [],
   "source": [
    "# 4*4 형태의 Tensor\n",
    "tensor = torch.ones(4, 4)\n",
    "\n",
    "# tensor 1열만 0으로 초기화\n",
    "tensor[:, 1] = 0"
   ]
  },
  {
   "cell_type": "code",
   "execution_count": 10,
   "id": "1e145e69",
   "metadata": {},
   "outputs": [
    {
     "name": "stdout",
     "output_type": "stream",
     "text": [
      "tensor([[1., 0., 1., 1.],\n",
      "        [1., 0., 1., 1.],\n",
      "        [1., 0., 1., 1.],\n",
      "        [1., 0., 1., 1.]])\n"
     ]
    }
   ],
   "source": [
    "print(tensor)"
   ]
  },
  {
   "cell_type": "markdown",
   "id": "d88bbcf1",
   "metadata": {},
   "source": [
    "#### 텐서 합치기"
   ]
  },
  {
   "cell_type": "code",
   "execution_count": 13,
   "id": "fad22ca4",
   "metadata": {},
   "outputs": [
    {
     "name": "stdout",
     "output_type": "stream",
     "text": [
      "tensor([[1., 0., 1., 1., 1., 0., 1., 1., 1., 0., 1., 1.],\n",
      "        [1., 0., 1., 1., 1., 0., 1., 1., 1., 0., 1., 1.],\n",
      "        [1., 0., 1., 1., 1., 0., 1., 1., 1., 0., 1., 1.],\n",
      "        [1., 0., 1., 1., 1., 0., 1., 1., 1., 0., 1., 1.]])\n"
     ]
    }
   ],
   "source": [
    "# dim : 어느 방향으로 합칠 것인지 정하는 인자\n",
    "# dim=0 : 세로 방향 / dim=1 : 가로 방향\n",
    "t1 = torch.cat([tensor, tensor, tensor], dim=1)\n",
    "\n",
    "print(t1)"
   ]
  },
  {
   "cell_type": "markdown",
   "id": "e3efd230",
   "metadata": {},
   "source": [
    "#### 산술 연산"
   ]
  },
  {
   "cell_type": "code",
   "execution_count": null,
   "id": "c1a375ad",
   "metadata": {},
   "outputs": [],
   "source": [
    "# 두 텐서 간의 행렬 곱(matrix multiplication)을 계산합니다. y1, y2, y3은 모두 같은 값을 갖습니다.\n",
    "y1 = tensor @ tensor.T\n",
    "y2 = tensor.matmul(tensor.T)\n",
    "\n",
    "y3 = torch.rand_like(tensor)\n",
    "torch.matmul(tensor, tensor.T, out=y3)\n",
    "\n",
    "\n",
    "# 요소별 곱(element-wise product)을 계산합니다. z1, z2, z3는 모두 같은 값을 갖습니다.\n",
    "z1 = tensor * tensor\n",
    "z2 = tensor.mul(tensor)\n",
    "\n",
    "z3 = torch.rand_like(tensor)\n",
    "torch.mul(tensor, tensor, out=z3)"
   ]
  }
 ],
 "metadata": {
  "kernelspec": {
   "display_name": "Python 3",
   "language": "python",
   "name": "python3"
  },
  "language_info": {
   "codemirror_mode": {
    "name": "ipython",
    "version": 3
   },
   "file_extension": ".py",
   "mimetype": "text/x-python",
   "name": "python",
   "nbconvert_exporter": "python",
   "pygments_lexer": "ipython3",
   "version": "3.8.8"
  }
 },
 "nbformat": 4,
 "nbformat_minor": 5
}
