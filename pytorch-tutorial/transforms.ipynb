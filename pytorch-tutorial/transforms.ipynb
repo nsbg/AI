{
 "cells": [
  {
   "cell_type": "markdown",
   "id": "eb1fd8a5",
   "metadata": {},
   "source": [
    "### TRANSFORMS"
   ]
  },
  {
   "cell_type": "markdown",
   "id": "9a2f5cac",
   "metadata": {},
   "source": [
    "TorchVision은 2개의 파라미터(**transform**과 **target_transform**)를 가지고 있다.   \n",
    "   \n",
    "- transform : features를 수정하는 데에 사용되는 파라미터\n",
    "- target_transform : labels를 수정하는데 사용되는 파라미터"
   ]
  },
  {
   "cell_type": "code",
   "execution_count": 1,
   "id": "fe87fbfe",
   "metadata": {},
   "outputs": [],
   "source": [
    "import torch\n",
    "\n",
    "from torchvision import datasets\n",
    "from torchvision.transforms import ToTensor, Lambda"
   ]
  },
  {
   "cell_type": "code",
   "execution_count": 3,
   "id": "edf7cdfc",
   "metadata": {},
   "outputs": [],
   "source": [
    "ds = datasets.FashionMNIST(\n",
    "    root=\"data\",\n",
    "    train=True,\n",
    "    download=True,\n",
    "    transform=ToTensor(),\n",
    "    target_transform=Lambda(lambda y: torch.zeros(10, dtype=torch.float).scatter_(0, torch.tensor(y), value=1))\n",
    ")"
   ]
  },
  {
   "cell_type": "markdown",
   "id": "1da198fe",
   "metadata": {},
   "source": [
    "#### torch.tensor.scatter_   \n",
    "   \n",
    "새롭게 구성한 tensor에 원하는 인덱스에 맞게 값을 할당해주는 함수"
   ]
  },
  {
   "cell_type": "markdown",
   "id": "2191ee61",
   "metadata": {},
   "source": [
    "#### ToTensor()\n",
    "   \n",
    "PIL(Python Image Library) 또는 Numpy ndarray를 FloatTensor 형태로 바꿈"
   ]
  },
  {
   "cell_type": "markdown",
   "id": "450b9dd2",
   "metadata": {},
   "source": [
    "### Lambda TRANSFORMS"
   ]
  },
  {
   "cell_type": "code",
   "execution_count": null,
   "id": "8803e4cb",
   "metadata": {},
   "outputs": [],
   "source": [
    "# 예시\n",
    "target_transform = Lambda(lambda y: torch.zero(\n",
    "    10, dtype=torch.float).scatter_(dim=0, index=torch.tensor(y), value=1)\n",
    ")"
   ]
  }
 ],
 "metadata": {
  "kernelspec": {
   "display_name": "Python 3",
   "language": "python",
   "name": "python3"
  },
  "language_info": {
   "codemirror_mode": {
    "name": "ipython",
    "version": 3
   },
   "file_extension": ".py",
   "mimetype": "text/x-python",
   "name": "python",
   "nbconvert_exporter": "python",
   "pygments_lexer": "ipython3",
   "version": "3.8.8"
  }
 },
 "nbformat": 4,
 "nbformat_minor": 5
}
