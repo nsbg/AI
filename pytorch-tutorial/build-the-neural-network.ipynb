{
 "cells": [
  {
   "cell_type": "markdown",
   "id": "2821a630",
   "metadata": {},
   "source": [
    "### BUILD THE NEURAL NETWORK"
   ]
  },
  {
   "cell_type": "code",
   "execution_count": 1,
   "id": "1f628667",
   "metadata": {},
   "outputs": [],
   "source": [
    "import torch\n",
    "\n",
    "from torch import nn\n",
    "from torch.utils.data import DataLoader\n",
    "from torchvision import datasets, transforms"
   ]
  },
  {
   "cell_type": "markdown",
   "id": "9cc77a46",
   "metadata": {},
   "source": [
    "### Define the class"
   ]
  },
  {
   "cell_type": "code",
   "execution_count": 2,
   "id": "1723af66",
   "metadata": {},
   "outputs": [],
   "source": [
    "class NN(nn.Module):\n",
    "    def __init__(self):\n",
    "        super(NN, self).__init__()\n",
    "        self.linear_relu_stack = nn.Sequential(\n",
    "            nn.Linear(28*28, 512),\n",
    "            nn.ReLU(),\n",
    "            nn.Linear(512, 512),\n",
    "            nn.ReLU(),\n",
    "            nn.Linear(512, 10)\n",
    "        )\n",
    "    \n",
    "    def forward(self, x):\n",
    "        x = self.flatten(x)\n",
    "        logits = self.linear_relu_stack(x)\n",
    "        \n",
    "        return logits"
   ]
  },
  {
   "cell_type": "code",
   "execution_count": 3,
   "id": "03051951",
   "metadata": {},
   "outputs": [],
   "source": [
    "device = 'cuda' if torch.cuda.is_available() else 'cpu'"
   ]
  },
  {
   "cell_type": "code",
   "execution_count": 4,
   "id": "450ef691",
   "metadata": {},
   "outputs": [
    {
     "name": "stdout",
     "output_type": "stream",
     "text": [
      "NN(\n",
      "  (linear_relu_stack): Sequential(\n",
      "    (0): Linear(in_features=784, out_features=512, bias=True)\n",
      "    (1): ReLU()\n",
      "    (2): Linear(in_features=512, out_features=512, bias=True)\n",
      "    (3): ReLU()\n",
      "    (4): Linear(in_features=512, out_features=10, bias=True)\n",
      "  )\n",
      ")\n"
     ]
    }
   ],
   "source": [
    "model = NN().to(device)\n",
    "\n",
    "print(model)"
   ]
  },
  {
   "cell_type": "markdown",
   "id": "d883bd42",
   "metadata": {},
   "source": [
    "### Model Layers"
   ]
  },
  {
   "cell_type": "code",
   "execution_count": 5,
   "id": "d7ad50a9",
   "metadata": {},
   "outputs": [
    {
     "name": "stdout",
     "output_type": "stream",
     "text": [
      "tensor([[[0.3286, 0.7060, 0.5141,  ..., 0.2575, 0.0437, 0.1182],\n",
      "         [0.4455, 0.5883, 0.6691,  ..., 0.9166, 0.4237, 0.3805],\n",
      "         [0.0300, 0.5426, 0.6349,  ..., 0.1690, 0.2291, 0.8712],\n",
      "         ...,\n",
      "         [0.3502, 0.9800, 0.7696,  ..., 0.8111, 0.2001, 0.8832],\n",
      "         [0.9996, 0.1389, 0.6896,  ..., 0.9117, 0.4271, 0.6127],\n",
      "         [0.7536, 0.0060, 0.8405,  ..., 0.3219, 0.9805, 0.2973]],\n",
      "\n",
      "        [[0.6384, 0.8730, 0.1383,  ..., 0.5182, 0.2961, 0.6892],\n",
      "         [0.5660, 0.1137, 0.9843,  ..., 0.2465, 0.4727, 0.7241],\n",
      "         [0.4668, 0.2504, 0.5713,  ..., 0.5956, 0.7244, 0.8439],\n",
      "         ...,\n",
      "         [0.5735, 0.9072, 0.0873,  ..., 0.4774, 0.5655, 0.9637],\n",
      "         [0.4253, 0.1540, 0.5579,  ..., 0.3672, 0.5145, 0.2783],\n",
      "         [0.0573, 0.7421, 0.8649,  ..., 0.5622, 0.2889, 0.7849]],\n",
      "\n",
      "        [[0.3769, 0.2420, 0.8320,  ..., 0.0442, 0.5383, 0.6115],\n",
      "         [0.0433, 0.4480, 0.3946,  ..., 0.1060, 0.4726, 0.7190],\n",
      "         [0.3255, 0.6633, 0.7239,  ..., 0.1979, 0.1035, 0.1187],\n",
      "         ...,\n",
      "         [0.2313, 0.9056, 0.6731,  ..., 0.9951, 0.9237, 0.4984],\n",
      "         [0.9992, 0.4905, 0.0620,  ..., 0.3786, 0.0701, 0.7980],\n",
      "         [0.9317, 0.5006, 0.2465,  ..., 0.8742, 0.8302, 0.6114]]])\n"
     ]
    }
   ],
   "source": [
    "input_img = torch.rand(3, 28, 28) # 28*28 크기의 tensor가 3개\n",
    "print(input_img)"
   ]
  },
  {
   "cell_type": "code",
   "execution_count": 9,
   "id": "b89e002f",
   "metadata": {},
   "outputs": [
    {
     "name": "stdout",
     "output_type": "stream",
     "text": [
      "torch.Size([3, 20])\n",
      "Before ReLU: tensor([[-0.2264,  0.4209, -0.0211, -0.2047, -0.2359,  0.5338,  0.0263,  0.3797,\n",
      "         -0.0284, -0.4800, -0.0175,  0.0443, -0.4820, -0.4803, -0.2911,  0.4426,\n",
      "          0.2676,  0.6306, -0.2964,  0.0964],\n",
      "        [ 0.1199,  0.3631, -0.1075, -0.3116, -0.3721,  0.3532,  0.0680,  0.1356,\n",
      "         -0.3876, -0.3830,  0.2407,  0.2580, -0.3904, -0.5308, -0.1937,  0.3743,\n",
      "          0.1899,  0.6607, -0.3894,  0.0227],\n",
      "        [-0.0117,  0.1331, -0.0352, -0.2742, -0.2495,  0.2602,  0.0690, -0.1476,\n",
      "          0.3271, -0.5602, -0.1397,  0.2966, -0.2019, -0.3409, -0.0967,  0.2649,\n",
      "          0.0663,  0.7369, -0.3518, -0.0846]], grad_fn=<AddmmBackward>)\n",
      "\n",
      "\n",
      "After ReLU: tensor([[0.0000, 0.4209, 0.0000, 0.0000, 0.0000, 0.5338, 0.0263, 0.3797, 0.0000,\n",
      "         0.0000, 0.0000, 0.0443, 0.0000, 0.0000, 0.0000, 0.4426, 0.2676, 0.6306,\n",
      "         0.0000, 0.0964],\n",
      "        [0.1199, 0.3631, 0.0000, 0.0000, 0.0000, 0.3532, 0.0680, 0.1356, 0.0000,\n",
      "         0.0000, 0.2407, 0.2580, 0.0000, 0.0000, 0.0000, 0.3743, 0.1899, 0.6607,\n",
      "         0.0000, 0.0227],\n",
      "        [0.0000, 0.1331, 0.0000, 0.0000, 0.0000, 0.2602, 0.0690, 0.0000, 0.3271,\n",
      "         0.0000, 0.0000, 0.2966, 0.0000, 0.0000, 0.0000, 0.2649, 0.0663, 0.7369,\n",
      "         0.0000, 0.0000]], grad_fn=<ReluBackward0>)\n"
     ]
    }
   ],
   "source": [
    "# nn.Flatten\n",
    "flatten = nn.Flatten()\n",
    "flat_img = flatten(input_img)\n",
    "\n",
    "# nn.Linear\n",
    "layer1 = nn.Linear(in_features=28*28, out_features=20)\n",
    "hidden1 = layer1(flat_img)\n",
    "print(hidden1.size())\n",
    "\n",
    "# nn.ReLU\n",
    "print(f\"Before ReLU: {hidden1}\\n\\n\")\n",
    "hidden1 = nn.ReLU()(hidden1)\n",
    "print(f\"After ReLU: {hidden1}\") # 음수는 0으로 바뀜\n",
    "\n",
    "# nn.Sequential\n",
    "seq_modules = nn.Sequential(\n",
    "    flatten,\n",
    "    layer1,\n",
    "    nn.ReLU(),\n",
    "    nn.Linear(20, 10)\n",
    ")\n",
    "\n",
    "input_img = torch.rand(3, 28, 28)\n",
    "logits = seq_modules(input_img)\n",
    "\n",
    "## nn.Softmax\n",
    "softmax = nn.Softmax(dim=1)\n",
    "pred_probab = softmax(logits)"
   ]
  },
  {
   "cell_type": "markdown",
   "id": "4e1f1bf4",
   "metadata": {},
   "source": [
    "### Model Parameters"
   ]
  },
  {
   "cell_type": "code",
   "execution_count": 10,
   "id": "14fa2b4f",
   "metadata": {},
   "outputs": [
    {
     "name": "stdout",
     "output_type": "stream",
     "text": [
      "Model structure:  NN(\n",
      "  (linear_relu_stack): Sequential(\n",
      "    (0): Linear(in_features=784, out_features=512, bias=True)\n",
      "    (1): ReLU()\n",
      "    (2): Linear(in_features=512, out_features=512, bias=True)\n",
      "    (3): ReLU()\n",
      "    (4): Linear(in_features=512, out_features=10, bias=True)\n",
      "  )\n",
      ") \n",
      "\n",
      "\n",
      "Layer: linear_relu_stack.0.weight | Size: torch.Size([512, 784]) | Values : tensor([[ 0.0282,  0.0151,  0.0234,  ..., -0.0191,  0.0288, -0.0235],\n",
      "        [ 0.0252, -0.0020, -0.0276,  ...,  0.0254, -0.0088, -0.0170]],\n",
      "       grad_fn=<SliceBackward>) \n",
      "\n",
      "Layer: linear_relu_stack.0.bias | Size: torch.Size([512]) | Values : tensor([-0.0292, -0.0090], grad_fn=<SliceBackward>) \n",
      "\n",
      "Layer: linear_relu_stack.2.weight | Size: torch.Size([512, 512]) | Values : tensor([[ 0.0284,  0.0424, -0.0325,  ..., -0.0299, -0.0117,  0.0003],\n",
      "        [-0.0101, -0.0430, -0.0258,  ..., -0.0072, -0.0155, -0.0029]],\n",
      "       grad_fn=<SliceBackward>) \n",
      "\n",
      "Layer: linear_relu_stack.2.bias | Size: torch.Size([512]) | Values : tensor([-0.0402,  0.0400], grad_fn=<SliceBackward>) \n",
      "\n",
      "Layer: linear_relu_stack.4.weight | Size: torch.Size([10, 512]) | Values : tensor([[ 0.0408,  0.0030,  0.0179,  ..., -0.0320,  0.0071, -0.0413],\n",
      "        [-0.0106,  0.0378,  0.0101,  ..., -0.0122, -0.0118, -0.0019]],\n",
      "       grad_fn=<SliceBackward>) \n",
      "\n",
      "Layer: linear_relu_stack.4.bias | Size: torch.Size([10]) | Values : tensor([-0.0122,  0.0268], grad_fn=<SliceBackward>) \n",
      "\n"
     ]
    }
   ],
   "source": [
    "print(\"Model structure: \", model, \"\\n\\n\")\n",
    "\n",
    "for name, param in model.named_parameters():\n",
    "    print(f\"Layer: {name} | Size: {param.size()} | Values : {param[:2]} \\n\")"
   ]
  }
 ],
 "metadata": {
  "kernelspec": {
   "display_name": "Python 3",
   "language": "python",
   "name": "python3"
  },
  "language_info": {
   "codemirror_mode": {
    "name": "ipython",
    "version": 3
   },
   "file_extension": ".py",
   "mimetype": "text/x-python",
   "name": "python",
   "nbconvert_exporter": "python",
   "pygments_lexer": "ipython3",
   "version": "3.8.8"
  }
 },
 "nbformat": 4,
 "nbformat_minor": 5
}
