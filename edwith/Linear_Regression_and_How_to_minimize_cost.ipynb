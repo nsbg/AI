{
 "cells": [
  {
   "cell_type": "code",
   "execution_count": 3,
   "metadata": {},
   "outputs": [
    {
     "name": "stdout",
     "output_type": "stream",
     "text": [
      "-3.000 |  116.66667\n",
      "-2.429 |   91.52381\n",
      "-1.857 |   69.42857\n",
      "-1.286 |   50.38095\n",
      "-0.714 |   34.38095\n",
      "-0.143 |   21.42857\n",
      " 0.429 |   11.52381\n",
      " 1.000 |    4.66667\n",
      " 1.571 |    0.85714\n",
      " 2.143 |    0.09524\n",
      " 2.714 |    2.38095\n",
      " 3.286 |    7.71429\n",
      " 3.857 |   16.09524\n",
      " 4.429 |   27.52381\n",
      " 5.000 |   42.00000\n"
     ]
    }
   ],
   "source": [
    "import numpy as np\n",
    "\n",
    "X = np.array([1, 2, 3])\n",
    "Y = np.array([2, 4, 6])\n",
    "\n",
    "def cost_func(W, X, Y):\n",
    "    c = 0\n",
    "    \n",
    "    for i in range(len(X)):\n",
    "        c += (W * X[i] - Y[i]) ** 2\n",
    "    \n",
    "    return c / len(X)\n",
    "\n",
    "for feed_W in np.linspace(-3, 5, num=15):\n",
    "    curr_cost = cost_func(feed_W, X, Y)\n",
    "    \n",
    "    print(\"{:6.3f} | {:10.5f}\".format(feed_W, curr_cost))"
   ]
  }
 ],
 "metadata": {
  "kernelspec": {
   "display_name": "Python 3",
   "language": "python",
   "name": "python3"
  },
  "language_info": {
   "codemirror_mode": {
    "name": "ipython",
    "version": 3
   },
   "file_extension": ".py",
   "mimetype": "text/x-python",
   "name": "python",
   "nbconvert_exporter": "python",
   "pygments_lexer": "ipython3",
   "version": "3.7.7"
  }
 },
 "nbformat": 4,
 "nbformat_minor": 4
}
