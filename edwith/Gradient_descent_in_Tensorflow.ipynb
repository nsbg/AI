{
 "cells": [
  {
   "cell_type": "code",
   "execution_count": 1,
   "metadata": {},
   "outputs": [],
   "source": [
    "import tensorflow as tf\n",
    "import numpy as np"
   ]
  },
  {
   "cell_type": "code",
   "execution_count": 5,
   "metadata": {},
   "outputs": [
    {
     "name": "stdout",
     "output_type": "stream",
     "text": [
      "    0 | 18829.7812 |  47.348293\n",
      "   10 |  3959.8606 |  22.254507\n",
      "   20 |   832.7498 |  10.746942\n",
      "   30 |   175.1254 |   5.469775\n",
      "   40 |    36.8285 |   3.049760\n",
      "   50 |     7.7449 |   1.939983\n",
      "   60 |     1.6287 |   1.431060\n",
      "   70 |     0.3425 |   1.197676\n",
      "   80 |     0.0720 |   1.090651\n",
      "   90 |     0.0151 |   1.041571\n",
      "  100 |     0.0032 |   1.019064\n",
      "  110 |     0.0007 |   1.008742\n",
      "  120 |     0.0001 |   1.004009\n",
      "  130 |     0.0000 |   1.001839\n",
      "  140 |     0.0000 |   1.000843\n",
      "  150 |     0.0000 |   1.000387\n",
      "  160 |     0.0000 |   1.000178\n",
      "  170 |     0.0000 |   1.000081\n",
      "  180 |     0.0000 |   1.000037\n",
      "  190 |     0.0000 |   1.000017\n",
      "  200 |     0.0000 |   1.000008\n",
      "  210 |     0.0000 |   1.000004\n",
      "  220 |     0.0000 |   1.000002\n",
      "  230 |     0.0000 |   1.000001\n",
      "  240 |     0.0000 |   1.000001\n",
      "  250 |     0.0000 |   1.000001\n",
      "  260 |     0.0000 |   1.000001\n",
      "  270 |     0.0000 |   1.000001\n",
      "  280 |     0.0000 |   1.000001\n",
      "  290 |     0.0000 |   1.000001\n"
     ]
    }
   ],
   "source": [
    "# 코드를 여러 번 실행해도 같은 결과가 나오게 하기 위해 특정 값으로 초기화\n",
    "tf.random.set_seed(0)\n",
    "\n",
    "x_data = [1, 2, 3, 4]\n",
    "y_data = [1, 2, 3, 4]\n",
    "\n",
    "# W에 특정한 값을 지정해도 결과는 동일\n",
    "W = tf.Variable(tf.random.normal([1], -100, 100))\n",
    "\n",
    "# 경사하강법 300번 수행\n",
    "for step in range(300):\n",
    "    hypothesis = W*x_data\n",
    "    cost = tf.reduce_mean(tf.square(hypothesis-y_data))\n",
    "    alpha = 0.01\n",
    "    gradient = tf.reduce_mean(tf.multiply(tf.multiply(W, x_data)-y_data, x_data))\n",
    "    descent = W-tf.multiply(alpha, gradient)\n",
    "    \n",
    "    W.assign(descent)\n",
    "    \n",
    "    if step%10 == 0:\n",
    "        print('{:5} | {:10.4f} | {:10.6f}'.format(step, cost.numpy(), W.numpy()[0]))"
   ]
  }
 ],
 "metadata": {
  "kernelspec": {
   "display_name": "Python 3",
   "language": "python",
   "name": "python3"
  },
  "language_info": {
   "codemirror_mode": {
    "name": "ipython",
    "version": 3
   },
   "file_extension": ".py",
   "mimetype": "text/x-python",
   "name": "python",
   "nbconvert_exporter": "python",
   "pygments_lexer": "ipython3",
   "version": "3.8.5"
  }
 },
 "nbformat": 4,
 "nbformat_minor": 4
}
