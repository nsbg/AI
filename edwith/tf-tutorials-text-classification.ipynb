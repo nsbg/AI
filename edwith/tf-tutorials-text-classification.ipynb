{
 "cells": [
  {
   "cell_type": "code",
   "execution_count": 1,
   "metadata": {},
   "outputs": [],
   "source": [
    "import tensorflow as tf\n",
    "import numpy as np\n",
    "from tensorflow import keras"
   ]
  },
  {
   "cell_type": "markdown",
   "metadata": {},
   "source": [
    "## IMDB 데이터셋 다운로드"
   ]
  },
  {
   "cell_type": "code",
   "execution_count": 2,
   "metadata": {},
   "outputs": [
    {
     "name": "stdout",
     "output_type": "stream",
     "text": [
      "Downloading data from https://storage.googleapis.com/tensorflow/tf-keras-datasets/imdb.npz\n",
      "17465344/17464789 [==============================] - 9s 1us/step\n"
     ]
    },
    {
     "name": "stderr",
     "output_type": "stream",
     "text": [
      "<__array_function__ internals>:5: VisibleDeprecationWarning: Creating an ndarray from ragged nested sequences (which is a list-or-tuple of lists-or-tuples-or ndarrays with different lengths or shapes) is deprecated. If you meant to do this, you must specify 'dtype=object' when creating the ndarray\n",
      "C:\\Users\\LG\\anaconda3\\lib\\site-packages\\tensorflow\\python\\keras\\datasets\\imdb.py:159: VisibleDeprecationWarning: Creating an ndarray from ragged nested sequences (which is a list-or-tuple of lists-or-tuples-or ndarrays with different lengths or shapes) is deprecated. If you meant to do this, you must specify 'dtype=object' when creating the ndarray\n",
      "  x_train, y_train = np.array(xs[:idx]), np.array(labels[:idx])\n",
      "C:\\Users\\LG\\anaconda3\\lib\\site-packages\\tensorflow\\python\\keras\\datasets\\imdb.py:160: VisibleDeprecationWarning: Creating an ndarray from ragged nested sequences (which is a list-or-tuple of lists-or-tuples-or ndarrays with different lengths or shapes) is deprecated. If you meant to do this, you must specify 'dtype=object' when creating the ndarray\n",
      "  x_test, y_test = np.array(xs[idx:]), np.array(labels[idx:])\n"
     ]
    }
   ],
   "source": [
    "imdb = keras.datasets.imdb\n",
    "\n",
    "(train_data, train_labels), (test_data, test_labels) = imdb.load_data(num_words=10000)"
   ]
  },
  {
   "cell_type": "markdown",
   "metadata": {},
   "source": [
    "## 데이터 탐색"
   ]
  },
  {
   "cell_type": "code",
   "execution_count": 3,
   "metadata": {},
   "outputs": [
    {
     "name": "stdout",
     "output_type": "stream",
     "text": [
      "훈련 샘플: 25000, 레이블: 25000\n"
     ]
    }
   ],
   "source": [
    "print(\"훈련 샘플: {}, 레이블: {}\".format(len(train_data), len(train_labels)))"
   ]
  },
  {
   "cell_type": "code",
   "execution_count": 4,
   "metadata": {},
   "outputs": [
    {
     "name": "stdout",
     "output_type": "stream",
     "text": [
      "[1, 14, 22, 16, 43, 530, 973, 1622, 1385, 65, 458, 4468, 66, 3941, 4, 173, 36, 256, 5, 25, 100, 43, 838, 112, 50, 670, 2, 9, 35, 480, 284, 5, 150, 4, 172, 112, 167, 2, 336, 385, 39, 4, 172, 4536, 1111, 17, 546, 38, 13, 447, 4, 192, 50, 16, 6, 147, 2025, 19, 14, 22, 4, 1920, 4613, 469, 4, 22, 71, 87, 12, 16, 43, 530, 38, 76, 15, 13, 1247, 4, 22, 17, 515, 17, 12, 16, 626, 18, 2, 5, 62, 386, 12, 8, 316, 8, 106, 5, 4, 2223, 5244, 16, 480, 66, 3785, 33, 4, 130, 12, 16, 38, 619, 5, 25, 124, 51, 36, 135, 48, 25, 1415, 33, 6, 22, 12, 215, 28, 77, 52, 5, 14, 407, 16, 82, 2, 8, 4, 107, 117, 5952, 15, 256, 4, 2, 7, 3766, 5, 723, 36, 71, 43, 530, 476, 26, 400, 317, 46, 7, 4, 2, 1029, 13, 104, 88, 4, 381, 15, 297, 98, 32, 2071, 56, 26, 141, 6, 194, 7486, 18, 4, 226, 22, 21, 134, 476, 26, 480, 5, 144, 30, 5535, 18, 51, 36, 28, 224, 92, 25, 104, 4, 226, 65, 16, 38, 1334, 88, 12, 16, 283, 5, 16, 4472, 113, 103, 32, 15, 16, 5345, 19, 178, 32]\n"
     ]
    }
   ],
   "source": [
    "print(train_data[0])"
   ]
  },
  {
   "cell_type": "code",
   "execution_count": 5,
   "metadata": {},
   "outputs": [
    {
     "data": {
      "text/plain": [
       "(218, 189)"
      ]
     },
     "execution_count": 5,
     "metadata": {},
     "output_type": "execute_result"
    }
   ],
   "source": [
    "# 신경망의 입력은 길이가 같아야 함\n",
    "len(train_data[0]), len(train_data[1])"
   ]
  },
  {
   "cell_type": "markdown",
   "metadata": {},
   "source": [
    "## 정수 → 단어"
   ]
  },
  {
   "cell_type": "code",
   "execution_count": 6,
   "metadata": {},
   "outputs": [
    {
     "name": "stdout",
     "output_type": "stream",
     "text": [
      "Downloading data from https://storage.googleapis.com/tensorflow/tf-keras-datasets/imdb_word_index.json\n",
      "1646592/1641221 [==============================] - 2s 1us/step\n"
     ]
    }
   ],
   "source": [
    "# 단어와 정수 인덱스를 매핑한 딕셔너리\n",
    "word_index = imdb.get_word_index()\n",
    "\n",
    "# 처음 몇 개 인덱스는 사전에 정의되어 있음\n",
    "word_index = {k:(v+3) for k, v in word_index.items()}\n",
    "word_index[\"<PAD>\"] = 0\n",
    "word_index[\"<START>\"] = 1\n",
    "word_index[\"<UNK>\"] = 2  # unknown\n",
    "word_index[\"<UNUSED>\"] = 3\n",
    "\n",
    "reverse_word_index = dict([(value, key) for (key, value) in word_index.items()])\n",
    "\n",
    "def decode_review(text):\n",
    "    return ' '.join([reverse_word_index.get(i, '?') for i in text])"
   ]
  },
  {
   "cell_type": "code",
   "execution_count": 7,
   "metadata": {},
   "outputs": [
    {
     "data": {
      "text/plain": [
       "\"<START> this film was just brilliant casting location scenery story direction everyone's really suited the part they played and you could just imagine being there robert <UNK> is an amazing actor and now the same being director <UNK> father came from the same scottish island as myself so i loved the fact there was a real connection with this film the witty remarks throughout the film were great it was just brilliant so much that i bought the film as soon as it was released for <UNK> and would recommend it to everyone to watch and the fly fishing was amazing really cried at the end it was so sad and you know what they say if you cry at a film it must have been good and this definitely was also <UNK> to the two little boy's that played the <UNK> of norman and paul they were just brilliant children are often left out of the <UNK> list i think because the stars that play them all grown up are such a big profile for the whole film but these children are amazing and should be praised for what they have done don't you think the whole story was so lovely because it was true and was someone's life after all that was shared with us all\""
      ]
     },
     "execution_count": 7,
     "metadata": {},
     "output_type": "execute_result"
    }
   ],
   "source": [
    "decode_review(train_data[0])"
   ]
  },
  {
   "cell_type": "markdown",
   "metadata": {},
   "source": [
    "## 데이터 준비"
   ]
  },
  {
   "cell_type": "markdown",
   "metadata": {},
   "source": [
    "리뷰(정수 배열)는 신경망에 주입되기 전 Tensor로 변환되어야 한다. Tensor로 변환하는 방법은   \n",
    "- One-hot encoding: 정수 배열을 0과 1로 이루어진 벡터로 변환(메모리 많이 사용)\n",
    "- Padding 추가: 정수 배열 길이가 모두 같도록 패딩을 추가\n",
    "   \n",
    "→ 이 튜토리얼에서는 **두 번째 방법** 사용"
   ]
  },
  {
   "cell_type": "code",
   "execution_count": 8,
   "metadata": {},
   "outputs": [],
   "source": [
    "train_data = keras.preprocessing.sequence.pad_sequences(train_data,\n",
    "                                                        value=word_index[\"<PAD>\"],\n",
    "                                                        padding='post',\n",
    "                                                        maxlen=256)\n",
    "\n",
    "test_data = keras.preprocessing.sequence.pad_sequences(test_data,\n",
    "                                                       value=word_index[\"<PAD>\"],\n",
    "                                                       padding='post',\n",
    "                                                       maxlen=256)"
   ]
  },
  {
   "cell_type": "code",
   "execution_count": 9,
   "metadata": {},
   "outputs": [
    {
     "data": {
      "text/plain": [
       "(256, 256)"
      ]
     },
     "execution_count": 9,
     "metadata": {},
     "output_type": "execute_result"
    }
   ],
   "source": [
    "len(train_data[0]), len(train_data[1])"
   ]
  },
  {
   "cell_type": "code",
   "execution_count": 10,
   "metadata": {},
   "outputs": [
    {
     "name": "stdout",
     "output_type": "stream",
     "text": [
      "[   1   14   22   16   43  530  973 1622 1385   65  458 4468   66 3941\n",
      "    4  173   36  256    5   25  100   43  838  112   50  670    2    9\n",
      "   35  480  284    5  150    4  172  112  167    2  336  385   39    4\n",
      "  172 4536 1111   17  546   38   13  447    4  192   50   16    6  147\n",
      " 2025   19   14   22    4 1920 4613  469    4   22   71   87   12   16\n",
      "   43  530   38   76   15   13 1247    4   22   17  515   17   12   16\n",
      "  626   18    2    5   62  386   12    8  316    8  106    5    4 2223\n",
      " 5244   16  480   66 3785   33    4  130   12   16   38  619    5   25\n",
      "  124   51   36  135   48   25 1415   33    6   22   12  215   28   77\n",
      "   52    5   14  407   16   82    2    8    4  107  117 5952   15  256\n",
      "    4    2    7 3766    5  723   36   71   43  530  476   26  400  317\n",
      "   46    7    4    2 1029   13  104   88    4  381   15  297   98   32\n",
      " 2071   56   26  141    6  194 7486   18    4  226   22   21  134  476\n",
      "   26  480    5  144   30 5535   18   51   36   28  224   92   25  104\n",
      "    4  226   65   16   38 1334   88   12   16  283    5   16 4472  113\n",
      "  103   32   15   16 5345   19  178   32    0    0    0    0    0    0\n",
      "    0    0    0    0    0    0    0    0    0    0    0    0    0    0\n",
      "    0    0    0    0    0    0    0    0    0    0    0    0    0    0\n",
      "    0    0    0    0]\n"
     ]
    }
   ],
   "source": [
    "# 패딩이 추가된 첫 번째 리뷰 내용\n",
    "print(train_data[0])"
   ]
  },
  {
   "cell_type": "markdown",
   "metadata": {},
   "source": [
    "## 모델 구성"
   ]
  },
  {
   "cell_type": "markdown",
   "metadata": {},
   "source": [
    "< 결정해야 할 사항 >   \n",
    "1. 모델에서 얼마나 많은 층을 사용할 것인가?\n",
    "2. 각 층에서 얼마나 많은 은닉 유닛(hidden unit)을 사용할 것인가?"
   ]
  },
  {
   "cell_type": "code",
   "execution_count": 14,
   "metadata": {},
   "outputs": [
    {
     "name": "stdout",
     "output_type": "stream",
     "text": [
      "Model: \"sequential\"\n",
      "_________________________________________________________________\n",
      "Layer (type)                 Output Shape              Param #   \n",
      "=================================================================\n",
      "embedding (Embedding)        (None, None, 16)          160000    \n",
      "_________________________________________________________________\n",
      "global_average_pooling1d (Gl (None, 16)                0         \n",
      "_________________________________________________________________\n",
      "dense (Dense)                (None, 16)                272       \n",
      "_________________________________________________________________\n",
      "dense_1 (Dense)              (None, 1)                 17        \n",
      "=================================================================\n",
      "Total params: 160,289\n",
      "Trainable params: 160,289\n",
      "Non-trainable params: 0\n",
      "_________________________________________________________________\n"
     ]
    }
   ],
   "source": [
    "vocab_size = 10000\n",
    "\n",
    "model = keras.Sequential()\n",
    "model.add(keras.layers.Embedding(vocab_size, 16, input_shape=(None,)))\n",
    "model.add(keras.layers.GlobalAveragePooling1D())\n",
    "model.add(keras.layers.Dense(16, activation='relu'))\n",
    "model.add(keras.layers.Dense(1, activation='sigmoid'))\n",
    "\n",
    "model.summary()"
   ]
  },
  {
   "cell_type": "markdown",
   "metadata": {},
   "source": [
    "## optimizer, loss function 설정"
   ]
  },
  {
   "cell_type": "code",
   "execution_count": 16,
   "metadata": {},
   "outputs": [],
   "source": [
    "model.compile(optimizer='adam',\n",
    "              loss='binary_crossentropy',\n",
    "              metrics=['accuracy']\n",
    ")"
   ]
  },
  {
   "cell_type": "markdown",
   "metadata": {},
   "source": [
    "## 검증 세트 만들기"
   ]
  },
  {
   "cell_type": "code",
   "execution_count": 17,
   "metadata": {},
   "outputs": [],
   "source": [
    "# 원본 데이터에서 10,000개의 샘플만을 이용해 검증 세트 생성\n",
    "x_val = train_data[:10000]\n",
    "partial_x_train = train_data[10000:]\n",
    "\n",
    "y_val = train_labels[:10000]\n",
    "partial_y_train = train_labels[10000:]"
   ]
  },
  {
   "cell_type": "markdown",
   "metadata": {},
   "source": [
    "## 모델 훈련"
   ]
  },
  {
   "cell_type": "code",
   "execution_count": 18,
   "metadata": {},
   "outputs": [
    {
     "name": "stdout",
     "output_type": "stream",
     "text": [
      "Epoch 1/40\n",
      "30/30 [==============================] - 5s 72ms/step - loss: 0.6928 - accuracy: 0.5288 - val_loss: 0.6902 - val_accuracy: 0.6130\n",
      "Epoch 2/40\n",
      "30/30 [==============================] - 1s 46ms/step - loss: 0.6884 - accuracy: 0.6589 - val_loss: 0.6825 - val_accuracy: 0.7183\n",
      "Epoch 3/40\n",
      "30/30 [==============================] - 1s 48ms/step - loss: 0.6782 - accuracy: 0.7272 - val_loss: 0.6677 - val_accuracy: 0.7543\n",
      "Epoch 4/40\n",
      "30/30 [==============================] - 1s 43ms/step - loss: 0.6593 - accuracy: 0.7691 - val_loss: 0.6425 - val_accuracy: 0.7587\n",
      "Epoch 5/40\n",
      "30/30 [==============================] - 1s 45ms/step - loss: 0.6291 - accuracy: 0.7819 - val_loss: 0.6077 - val_accuracy: 0.7766\n",
      "Epoch 6/40\n",
      "30/30 [==============================] - 1s 45ms/step - loss: 0.5861 - accuracy: 0.8046 - val_loss: 0.5647 - val_accuracy: 0.8033\n",
      "Epoch 7/40\n",
      "30/30 [==============================] - 1s 43ms/step - loss: 0.5386 - accuracy: 0.8271 - val_loss: 0.5197 - val_accuracy: 0.8180\n",
      "Epoch 8/40\n",
      "30/30 [==============================] - 1s 44ms/step - loss: 0.4892 - accuracy: 0.8406 - val_loss: 0.4766 - val_accuracy: 0.8314\n",
      "Epoch 9/40\n",
      "30/30 [==============================] - 1s 44ms/step - loss: 0.4453 - accuracy: 0.8575 - val_loss: 0.4390 - val_accuracy: 0.8427\n",
      "Epoch 10/40\n",
      "30/30 [==============================] - 1s 44ms/step - loss: 0.4023 - accuracy: 0.8692 - val_loss: 0.4084 - val_accuracy: 0.8518\n",
      "Epoch 11/40\n",
      "30/30 [==============================] - 1s 44ms/step - loss: 0.3706 - accuracy: 0.8768 - val_loss: 0.3828 - val_accuracy: 0.8584\n",
      "Epoch 12/40\n",
      "30/30 [==============================] - 1s 44ms/step - loss: 0.3399 - accuracy: 0.8895 - val_loss: 0.3632 - val_accuracy: 0.8643\n",
      "Epoch 13/40\n",
      "30/30 [==============================] - 1s 44ms/step - loss: 0.3164 - accuracy: 0.8919 - val_loss: 0.3478 - val_accuracy: 0.8690\n",
      "Epoch 14/40\n",
      "30/30 [==============================] - 1s 43ms/step - loss: 0.2916 - accuracy: 0.8984 - val_loss: 0.3352 - val_accuracy: 0.8713\n",
      "Epoch 15/40\n",
      "30/30 [==============================] - 1s 45ms/step - loss: 0.2769 - accuracy: 0.9073 - val_loss: 0.3249 - val_accuracy: 0.8765\n",
      "Epoch 16/40\n",
      "30/30 [==============================] - 1s 44ms/step - loss: 0.2620 - accuracy: 0.9111 - val_loss: 0.3164 - val_accuracy: 0.8755\n",
      "Epoch 17/40\n",
      "30/30 [==============================] - 1s 46ms/step - loss: 0.2509 - accuracy: 0.9139 - val_loss: 0.3105 - val_accuracy: 0.8777\n",
      "Epoch 18/40\n",
      "30/30 [==============================] - 2s 52ms/step - loss: 0.2311 - accuracy: 0.9196 - val_loss: 0.3037 - val_accuracy: 0.8798\n",
      "Epoch 19/40\n",
      "30/30 [==============================] - 1s 46ms/step - loss: 0.2225 - accuracy: 0.9238 - val_loss: 0.2989 - val_accuracy: 0.8819\n",
      "Epoch 20/40\n",
      "30/30 [==============================] - 1s 49ms/step - loss: 0.2118 - accuracy: 0.9273 - val_loss: 0.2953 - val_accuracy: 0.8826\n",
      "Epoch 21/40\n",
      "30/30 [==============================] - 1s 46ms/step - loss: 0.2018 - accuracy: 0.9326 - val_loss: 0.2922 - val_accuracy: 0.8831\n",
      "Epoch 22/40\n",
      "30/30 [==============================] - 1s 48ms/step - loss: 0.1937 - accuracy: 0.9350 - val_loss: 0.2901 - val_accuracy: 0.8839\n",
      "Epoch 23/40\n",
      "30/30 [==============================] - 2s 51ms/step - loss: 0.1825 - accuracy: 0.9405 - val_loss: 0.2882 - val_accuracy: 0.8845\n",
      "Epoch 24/40\n",
      "30/30 [==============================] - 1s 47ms/step - loss: 0.1821 - accuracy: 0.9390 - val_loss: 0.2876 - val_accuracy: 0.8851\n",
      "Epoch 25/40\n",
      "30/30 [==============================] - 1s 51ms/step - loss: 0.1676 - accuracy: 0.9473 - val_loss: 0.2869 - val_accuracy: 0.8847\n",
      "Epoch 26/40\n",
      "30/30 [==============================] - 1s 45ms/step - loss: 0.1581 - accuracy: 0.9523 - val_loss: 0.2860 - val_accuracy: 0.8861\n",
      "Epoch 27/40\n",
      "30/30 [==============================] - 1s 42ms/step - loss: 0.1558 - accuracy: 0.9512 - val_loss: 0.2866 - val_accuracy: 0.8859\n",
      "Epoch 28/40\n",
      "30/30 [==============================] - 1s 44ms/step - loss: 0.1496 - accuracy: 0.9538 - val_loss: 0.2866 - val_accuracy: 0.8866\n",
      "Epoch 29/40\n",
      "30/30 [==============================] - 1s 45ms/step - loss: 0.1471 - accuracy: 0.9547 - val_loss: 0.2875 - val_accuracy: 0.8861\n",
      "Epoch 30/40\n",
      "30/30 [==============================] - 1s 43ms/step - loss: 0.1365 - accuracy: 0.9587 - val_loss: 0.2882 - val_accuracy: 0.8872\n",
      "Epoch 31/40\n",
      "30/30 [==============================] - 1s 40ms/step - loss: 0.1349 - accuracy: 0.9578 - val_loss: 0.2904 - val_accuracy: 0.8862\n",
      "Epoch 32/40\n",
      "30/30 [==============================] - 1s 37ms/step - loss: 0.1257 - accuracy: 0.9649 - val_loss: 0.2915 - val_accuracy: 0.8871\n",
      "Epoch 33/40\n",
      "30/30 [==============================] - 1s 40ms/step - loss: 0.1210 - accuracy: 0.9666 - val_loss: 0.2931 - val_accuracy: 0.8850\n",
      "Epoch 34/40\n",
      "30/30 [==============================] - 1s 39ms/step - loss: 0.1138 - accuracy: 0.9683 - val_loss: 0.2957 - val_accuracy: 0.8856\n",
      "Epoch 35/40\n",
      "30/30 [==============================] - 1s 44ms/step - loss: 0.1142 - accuracy: 0.9680 - val_loss: 0.2980 - val_accuracy: 0.8832\n",
      "Epoch 36/40\n",
      "30/30 [==============================] - 1s 43ms/step - loss: 0.1093 - accuracy: 0.9691 - val_loss: 0.3001 - val_accuracy: 0.8839\n",
      "Epoch 37/40\n",
      "30/30 [==============================] - 1s 44ms/step - loss: 0.1034 - accuracy: 0.9710 - val_loss: 0.3023 - val_accuracy: 0.8836\n",
      "Epoch 38/40\n",
      "30/30 [==============================] - 1s 45ms/step - loss: 0.1027 - accuracy: 0.9698 - val_loss: 0.3058 - val_accuracy: 0.8836\n",
      "Epoch 39/40\n",
      "30/30 [==============================] - 1s 43ms/step - loss: 0.0989 - accuracy: 0.9740 - val_loss: 0.3083 - val_accuracy: 0.8821\n",
      "Epoch 40/40\n",
      "30/30 [==============================] - 1s 45ms/step - loss: 0.0928 - accuracy: 0.9755 - val_loss: 0.3136 - val_accuracy: 0.8819\n"
     ]
    }
   ],
   "source": [
    "# 512개의 샘플로 이루어진 미니 배치에서 40번의 에포크 동안 훈련\n",
    "history = model.fit(partial_x_train,\n",
    "                    partial_y_train,\n",
    "                    epochs=40,\n",
    "                    batch_size=512,\n",
    "                    validation_data=(x_val, y_val),\n",
    "                    verbose=1\n",
    ")"
   ]
  },
  {
   "cell_type": "markdown",
   "metadata": {},
   "source": [
    "## 모델 평가"
   ]
  },
  {
   "cell_type": "code",
   "execution_count": 19,
   "metadata": {},
   "outputs": [
    {
     "name": "stdout",
     "output_type": "stream",
     "text": [
      "782/782 - 1s - loss: 0.3347 - accuracy: 0.8706\n",
      "[0.3346554636955261, 0.8705999851226807]\n"
     ]
    }
   ],
   "source": [
    "results = model.evaluate(test_data, test_labels, verbose=2)\n",
    "\n",
    "print(results)"
   ]
  },
  {
   "cell_type": "markdown",
   "metadata": {},
   "source": [
    "## 정확도와 손실 그래프 그리기"
   ]
  },
  {
   "cell_type": "code",
   "execution_count": 20,
   "metadata": {},
   "outputs": [
    {
     "data": {
      "text/plain": [
       "dict_keys(['loss', 'accuracy', 'val_loss', 'val_accuracy'])"
      ]
     },
     "execution_count": 20,
     "metadata": {},
     "output_type": "execute_result"
    }
   ],
   "source": [
    "history_dict = history.history\n",
    "history_dict.keys()"
   ]
  },
  {
   "cell_type": "code",
   "execution_count": 21,
   "metadata": {},
   "outputs": [
    {
     "data": {
      "text/plain": [
       "<matplotlib.legend.Legend at 0x2cb944c9f10>"
      ]
     },
     "execution_count": 21,
     "metadata": {},
     "output_type": "execute_result"
    },
    {
     "data": {
      "image/png": "[encoded data removed]",
      "text/plain": [
       "<Figure size 432x288 with 1 Axes>"
      ]
     },
     "metadata": {
      "needs_background": "light"
     },
     "output_type": "display_data"
    }
   ],
   "source": [
    "import matplotlib.pyplot as plt\n",
    "\n",
    "acc = history_dict['accuracy']\n",
    "val_acc = history_dict['val_accuracy']\n",
    "loss = history_dict['loss']\n",
    "val_loss = history_dict['val_loss']\n",
    "\n",
    "epochs = range(1, len(acc)+1)\n",
    "\n",
    "# bo: 파란색 점\n",
    "plt.plot(epochs, loss, 'bo', label='Training loss')\n",
    "\n",
    "# b: 파란 실선\n",
    "plt.plot(epochs, val_loss, 'b', label='Validation loss')\n",
    "\n",
    "plt.title('Training and validation loss')\n",
    "plt.xlabel('Epochs')\n",
    "plt.ylabel('Loss')\n",
    "plt.legend()"
   ]
  },
  {
   "cell_type": "code",
   "execution_count": 22,
   "metadata": {},
   "outputs": [
    {
     "data": {
      "text/plain": [
       "<matplotlib.legend.Legend at 0x2cba0848460>"
      ]
     },
     "execution_count": 22,
     "metadata": {},
     "output_type": "execute_result"
    },
    {
     "data": {
      "image/png": "[encoded data removed]",
      "text/plain": [
       "<Figure size 432x288 with 1 Axes>"
      ]
     },
     "metadata": {
      "needs_background": "light"
     },
     "output_type": "display_data"
    }
   ],
   "source": [
    "plt.clf()   # plot 초기화\n",
    "\n",
    "plt.plot(epochs, acc, 'bo', label='Training acc')\n",
    "plt.plot(epochs, val_acc, 'b', label='Validation acc')\n",
    "plt.title('Training and validation accuracy')\n",
    "plt.xlabel('Epochs')\n",
    "plt.ylabel('Accuracy')\n",
    "plt.legend()"
   ]
  }
 ],
 "metadata": {
  "kernelspec": {
   "display_name": "Python 3",
   "language": "python",
   "name": "python3"
  },
  "language_info": {
   "codemirror_mode": {
    "name": "ipython",
    "version": 3
   },
   "file_extension": ".py",
   "mimetype": "text/x-python",
   "name": "python",
   "nbconvert_exporter": "python",
   "pygments_lexer": "ipython3",
   "version": "3.8.5"
  }
 },
 "nbformat": 4,
 "nbformat_minor": 4
}
