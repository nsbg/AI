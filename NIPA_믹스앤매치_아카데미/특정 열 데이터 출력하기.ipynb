{
 "cells": [
  {
   "cell_type": "code",
   "execution_count": null,
   "metadata": {},
   "outputs": [],
   "source": [
    "# pandas는 파이썬의 대표적인 데이터 분석 라이브러리(툴)이며, 다음과 같이 사용할 수 있습니다.\n",
    "import pandas as pd\n",
    "corona_data = pd.read_excel('./data/corona_data.xlsx', index_col='날짜')\n",
    "\n",
    "\n",
    "# 코로나 데이터셋에는 4개의 열(속성이라고도 합니다)이 있으며,\n",
    "# 각각 '격리해제', '사망자', '확진자', '누적검사'입니다.\n",
    "\n",
    "# corona_data가 갖고 있는 열(칼럼)들이 무엇인지 출력하여 확인해봅니다..\n",
    "print(corona_data.columns)\n",
    "\n",
    "\n",
    "# corona_data에서 특정 열 데이터만 출력해보도록 하겠습니다.\n",
    "# 데이터셋['열 이름'] 형태로 코드를 작성하면 특정 열의 데이터만 확인할 수 있습니다.\n",
    "# 열 이름은 '(따옴표)를 사용해야 한다는 점에 주의해주세요\n",
    "print(corona_data['격리해제'])\n",
    "\n",
    "\n",
    "# 아래에 corona_data가 갖고 있는 열 중, '격리해제' 대신 '확진자' 등의 다른 열을 입력하여 확인해보세요\n",
    "print(corona_data['확진자'])"
   ]
  }
 ],
 "metadata": {
  "kernelspec": {
   "display_name": "Python 3",
   "language": "python",
   "name": "python3"
  },
  "language_info": {
   "codemirror_mode": {
    "name": "ipython",
    "version": 3
   },
   "file_extension": ".py",
   "mimetype": "text/x-python",
   "name": "python",
   "nbconvert_exporter": "python",
   "pygments_lexer": "ipython3",
   "version": "3.7.7"
  }
 },
 "nbformat": 4,
 "nbformat_minor": 4
}
