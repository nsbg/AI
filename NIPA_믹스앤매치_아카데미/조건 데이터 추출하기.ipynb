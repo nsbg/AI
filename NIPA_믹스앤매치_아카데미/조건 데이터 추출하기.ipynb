{
 "cells": [
  {
   "cell_type": "code",
   "execution_count": null,
   "metadata": {},
   "outputs": [],
   "source": [
    "import pandas as pd\n",
    "\n",
    "movement_data = pd.read_csv('./data/movement_skt.csv')\n",
    "\n",
    "# 데이터셋[데이터셋[열이름]==조건] : 마스킹 연산\n",
    "\n",
    "# '주차' 열의 값 조건이 '19-08'인 데이터만 선택합니다.\n",
    "# 참고: A와 B의 값이 같다는 것은 '=='로 표현합니다.\n",
    "print('19년 8주차 데이터')\n",
    "print(movement_data[movement_data['주차']=='19-08'])\n",
    "\n",
    "# '지역'열의 값 조건이 '서울 노원구'인 데이터만 선택합니다.\n",
    "print('\\n서울 노원구 데이터')\n",
    "print(movement_data[movement_data['지역']=='서울 노원구'])\n",
    "\n",
    "# 실습: 성별이 '여성'인 데이터만 추출해보세요\n",
    "print('\\n성별이 여성인 데이터')\n",
    "print(movement_data[movement_data['성별']=='여성'])"
   ]
  }
 ],
 "metadata": {
  "kernelspec": {
   "display_name": "Python 3",
   "language": "python",
   "name": "python3"
  },
  "language_info": {
   "codemirror_mode": {
    "name": "ipython",
    "version": 3
   },
   "file_extension": ".py",
   "mimetype": "text/x-python",
   "name": "python",
   "nbconvert_exporter": "python",
   "pygments_lexer": "ipython3",
   "version": "3.7.7"
  }
 },
 "nbformat": 4,
 "nbformat_minor": 4
}
