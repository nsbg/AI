{
 "cells": [
  {
   "cell_type": "code",
   "execution_count": null,
   "metadata": {},
   "outputs": [],
   "source": [
    "from elice_utils import EliceUtils\n",
    "elice_utils = EliceUtils()\n",
    "# matplotlib : 그래프 표시에 사용되는 라이브러리\n",
    "import matplotlib.pyplot as plt\n",
    "import pandas as pd\n",
    "\n",
    "\n",
    "def main():\n",
    "\t# 코로나 데이터셋을 불러옵니다\n",
    "    corona_data = pd.read_excel('./data/corona_data.xlsx', index_col='날짜')\n",
    "    \n",
    "    \n",
    "    # 작성된 이미지를 제출합니다\n",
    "    draw_image(corona_data)\n",
    "\n",
    "\n",
    "# 데이터를 다루고 이미지를 그리는 부분입니다\n",
    "def draw_image(corona_data):\n",
    "    \n",
    "    # 이미지 형태를 만들고 사용될 한글 글꼴을 설정합니다.\n",
    "    plt.figure(figsize=(10,10))\n",
    "    plt.rc('font', family='NanumBarunGothic')\n",
    "    \n",
    "    \n",
    "    # 확진자 데이터를 시각화합니다\n",
    "    corona_data['확진자'].plot()\n",
    "    \n",
    "    \n",
    "    # 누적 검사 수 데이터를 시각화합니다\n",
    "    corona_data['누적검사'].plot(secondary_y=True)\n",
    "    \n",
    "    \n",
    "    # 차트 제목을 붙입니다\n",
    "    plt.title('확진자 및 누적검사 추이')\n",
    "    \n",
    "    \n",
    "    # 이미지 데이터를 만듭니다\n",
    "    plt.savefig('corona.png')\n",
    "    elice_utils.send_image('corona.png')\n",
    "\n",
    "if __name__ == \"__main__\":\n",
    "    main()"
   ]
  }
 ],
 "metadata": {
  "kernelspec": {
   "display_name": "Python 3",
   "language": "python",
   "name": "python3"
  },
  "language_info": {
   "codemirror_mode": {
    "name": "ipython",
    "version": 3
   },
   "file_extension": ".py",
   "mimetype": "text/x-python",
   "name": "python",
   "nbconvert_exporter": "python",
   "pygments_lexer": "ipython3",
   "version": "3.7.7"
  }
 },
 "nbformat": 4,
 "nbformat_minor": 4
}
