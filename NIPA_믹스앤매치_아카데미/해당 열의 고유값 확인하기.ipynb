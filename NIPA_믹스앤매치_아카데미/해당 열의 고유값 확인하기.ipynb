{
 "cells": [
  {
   "cell_type": "code",
   "execution_count": null,
   "metadata": {},
   "outputs": [],
   "source": [
    "import pandas as pd\n",
    "\n",
    "# unique() ?\n",
    "# 해당 열에 있는 고유값 확인 가능 \n",
    "# -> 하나의 열에만 사용할 수 있기 때문에 \".loc[]\" / 데이터셋['열 이름'] 으로 사용\n",
    "\n",
    "# 데이터셋으로부터 유동인구 데이터를 불러와 movement_data라는 이름으로 저장합니다.\n",
    "# movement_data = pd.read_csv('./data/movement_skt.csv')\n",
    "# print('서울 유동인구 데이터 출력')\n",
    "# print(movement_data)\n",
    "\n",
    "# 불러온 데이터셋에 어떠한 지역들이 있는지 확인합니다.\n",
    "# .unique() 명령어(메서드)를 사용하면 해당 데이터셋의 열에서 유일한 값들만 확인할 수 있습니다.\n",
    "# print('\\n지역의 유일한 값 찾기')\n",
    "# print(movement_data.loc[:, '지역'].unique())\n",
    "\n",
    "# 실습: unique() 명령어를 사용하여 연령대가 어떻게 구성되어 있는지 확인해봅니다.\n",
    "print('\\n연령대의 유일한 값 찾기')\n",
    "print(movement_data.loc[:, '연령대'].unique())"
   ]
  }
 ],
 "metadata": {
  "kernelspec": {
   "display_name": "Python 3",
   "language": "python",
   "name": "python3"
  },
  "language_info": {
   "codemirror_mode": {
    "name": "ipython",
    "version": 3
   },
   "file_extension": ".py",
   "mimetype": "text/x-python",
   "name": "python",
   "nbconvert_exporter": "python",
   "pygments_lexer": "ipython3",
   "version": "3.7.7"
  }
 },
 "nbformat": 4,
 "nbformat_minor": 4
}
