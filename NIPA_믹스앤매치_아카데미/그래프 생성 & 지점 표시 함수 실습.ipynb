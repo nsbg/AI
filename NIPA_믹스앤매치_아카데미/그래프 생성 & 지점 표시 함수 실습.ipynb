{
 "cells": [
  {
   "cell_type": "code",
   "execution_count": null,
   "metadata": {},
   "outputs": [],
   "source": [
    "def draw_image(shopping, category):\n",
    "    \n",
    "    # 데이터의 크기를 확인합니다\n",
    "    y_max = shopping.loc[category].max()\n",
    "    y_min = shopping.loc[category].min()\n",
    "    \n",
    "    # 이미지 데이터를 만듭니다.\n",
    "    plt.figure(figsize=(8,4))\n",
    "    plt.rc('font', family='NanumBarunGothic')\n",
    "    plt.plot(shopping.loc[category])\n",
    "\n",
    "    plt.vlines('20-1', y_min, y_max, color='red')\n",
    "    plt.text(x='20-1', y=y_max, s='   코로나 발생', color='red')\n",
    "    plt.title('코로나 발생에 따른 온라인 쇼핑 거래랑 추이')\n",
    "    \n",
    "    # 이미지 데이터를 저장합니다.\n",
    "    plt.savefig('corona.png')\n",
    "    elice_utils.send_image('corona.png')\n",
    "    \n",
    "if __name__ == \"__main__\":\n",
    "    main(category)"
   ]
  }
 ],
 "metadata": {
  "kernelspec": {
   "display_name": "Python 3",
   "language": "python",
   "name": "python3"
  },
  "language_info": {
   "codemirror_mode": {
    "name": "ipython",
    "version": 3
   },
   "file_extension": ".py",
   "mimetype": "text/x-python",
   "name": "python",
   "nbconvert_exporter": "python",
   "pygments_lexer": "ipython3",
   "version": "3.7.7"
  }
 },
 "nbformat": 4,
 "nbformat_minor": 4
}
