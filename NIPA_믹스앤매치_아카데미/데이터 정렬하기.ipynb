{
 "cells": [
  {
   "cell_type": "code",
   "execution_count": null,
   "metadata": {},
   "outputs": [],
   "source": [
    "import pandas as pd\n",
    "\n",
    "# sort_values() 연습\n",
    "\n",
    "# pd.read_csv() 명령어를 사용하여 csv 형태로 저장된 데이터를 불러올 수 있습니다.\n",
    "shopping_data = pd.read_csv('./data/shopping_data.csv', index_col='상품군별')\n",
    "\n",
    "# 2020년 6월의 YoY 데이터를 yoy_2006이라는 이름으로 저장합니다\n",
    "yoy_2006 = (shopping_data['20-6'] - shopping_data['19-6']) / shopping_data['19-6'] * 100\n",
    "\n",
    "# pandas 열 데이터에 .sort_values() 명령어(메서드)를 사용하면 데이터 오름차순 정렬 가능\n",
    "print('오름차순 정렬')\n",
    "print(yoy_2006.sort_values())\n",
    "\n",
    "# 실습: 데이터를 내림차순으로 정렬해봅니다.\n",
    "# sort_values()에 ascending=False 옵션(파라미터)을 주면 내림차순으로 정렬\n",
    "print('\\n내림차순 정렬')\n",
    "print(yoy_2006.sort_values(ascending=False))"
   ]
  }
 ],
 "metadata": {
  "kernelspec": {
   "display_name": "Python 3",
   "language": "python",
   "name": "python3"
  },
  "language_info": {
   "codemirror_mode": {
    "name": "ipython",
    "version": 3
   },
   "file_extension": ".py",
   "mimetype": "text/x-python",
   "name": "python",
   "nbconvert_exporter": "python",
   "pygments_lexer": "ipython3",
   "version": "3.7.7"
  }
 },
 "nbformat": 4,
 "nbformat_minor": 4
}
