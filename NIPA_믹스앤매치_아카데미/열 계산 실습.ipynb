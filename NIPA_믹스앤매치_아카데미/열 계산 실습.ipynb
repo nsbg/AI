{
 "cells": [
  {
   "cell_type": "code",
   "execution_count": null,
   "metadata": {},
   "outputs": [],
   "source": [
    "import pandas as pd\n",
    "\n",
    "# pd.read_csv() 명령어를 사용하여 csv 형태로 저장된 데이터를 불러올 수 있습니다.\n",
    "shopping_data = pd.read_csv('./data/shopping_data.csv', index_col='상품군별')\n",
    "\n",
    "\n",
    "# pandas의 열 계산 실습 1\n",
    "print('20년 6월 데이터와 19년 6월 데이터의 차이')\n",
    "print(shopping_data['20-6'] - shopping_data['19-6'])\n",
    "\n",
    "# pandas의 열 계산 실습 2\n",
    "# 참고 - YoY 계산식: ((기준년도 데이터 - 직전년도 데이터) / 직전년도 데이터) X 100\n",
    "# 참고 - 연산자: python에서는 곱하기를 *로, 나누기를 /로 사용합니다.\n",
    "\n",
    "# 실습: 20년 2월의 YoY를 계산해봅니다\n",
    "print('\\n20년 2월 데이터 YoY')\n",
    "print((shopping_data['20-2'] - shopping_data['19-2']) / shopping_data['19-2'] * 100) "
   ]
  }
 ],
 "metadata": {
  "kernelspec": {
   "display_name": "Python 3",
   "language": "python",
   "name": "python3"
  },
  "language_info": {
   "codemirror_mode": {
    "name": "ipython",
    "version": 3
   },
   "file_extension": ".py",
   "mimetype": "text/x-python",
   "name": "python",
   "nbconvert_exporter": "python",
   "pygments_lexer": "ipython3",
   "version": "3.7.7"
  }
 },
 "nbformat": 4,
 "nbformat_minor": 4
}
