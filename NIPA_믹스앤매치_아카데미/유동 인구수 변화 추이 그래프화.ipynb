{
 "cells": [
  {
   "cell_type": "code",
   "execution_count": null,
   "metadata": {},
   "outputs": [],
   "source": [
    "import pandas as pd\n",
    "import matplotlib.pyplot as plt\n",
    "import matplotlib.font_manager as fm\n",
    "from elice_utils import EliceUtils\n",
    "elice_utils = EliceUtils()\n",
    "\n",
    "movement_data = pd.read_csv('./data/movement_skt.csv')\n",
    "\n",
    "# 연령대별 총 유동인구수 변화 추이를 계산합니다\n",
    "age_1 = 20   # 연령대\n",
    "age_2 = 30   # 비교하고자 하는 연령대\n",
    "pivot_table = movement_data.pivot_table(index='주차', columns='연령대', values='유동인구수', aggfunc='sum')\n",
    "\n",
    "# 한국어를 보기 좋게 표시할 수 있도록 폰트를 설정합니다.\n",
    "font = fm.FontProperties(fname='./NanumBarunGothic.ttf')\n",
    "plt.rc('font', family=font.get_name())\n",
    "\n",
    "# 데이터 시각화 코드입니다\n",
    "pivot_table[[20, 30]].plot(figsize=(8,4))\n",
    "plt.title('서울 내 연령대별 총 유동인구수 변화 추이')\n",
    "plt.savefig(\"plot.png\")\n",
    "elice_utils.send_image(\"plot.png\")"
   ]
  }
 ],
 "metadata": {
  "kernelspec": {
   "display_name": "Python 3",
   "language": "python",
   "name": "python3"
  },
  "language_info": {
   "codemirror_mode": {
    "name": "ipython",
    "version": 3
   },
   "file_extension": ".py",
   "mimetype": "text/x-python",
   "name": "python",
   "nbconvert_exporter": "python",
   "pygments_lexer": "ipython3",
   "version": "3.7.7"
  }
 },
 "nbformat": 4,
 "nbformat_minor": 4
}
