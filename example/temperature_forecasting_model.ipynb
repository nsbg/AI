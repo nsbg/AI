{
 "cells": [
  {
   "cell_type": "markdown",
   "metadata": {},
   "source": [
    "### 라이브러리 및 tensorflow 1.x 설정"
   ]
  },
  {
   "cell_type": "code",
   "execution_count": 1,
   "metadata": {},
   "outputs": [],
   "source": [
    "import pandas as pd\n",
    "import numpy as np\n",
    "import seaborn as sns\n",
    "import tensorflow.compat.v1 as tf\n",
    "import matplotlib.pyplot as plt\n",
    "import matplotlib.ticker as ticker\n",
    "import warnings\n",
    "import datetime\n",
    "\n",
    "from sklearn.model_selection import train_test_split\n",
    "from sklearn.preprocessing import MinMaxScaler\n",
    "\n",
    "tf.compat.v1.disable_eager_execution()"
   ]
  },
  {
   "cell_type": "markdown",
   "metadata": {},
   "source": [
    "### 데이터 읽어오기"
   ]
  },
  {
   "cell_type": "code",
   "execution_count": 2,
   "metadata": {},
   "outputs": [
    {
     "data": {
      "text/html": [
       "<div>\n",
       "<style scoped>\n",
       "    .dataframe tbody tr th:only-of-type {\n",
       "        vertical-align: middle;\n",
       "    }\n",
       "\n",
       "    .dataframe tbody tr th {\n",
       "        vertical-align: top;\n",
       "    }\n",
       "\n",
       "    .dataframe thead th {\n",
       "        text-align: right;\n",
       "    }\n",
       "</style>\n",
       "<table border=\"1\" class=\"dataframe\">\n",
       "  <thead>\n",
       "    <tr style=\"text-align: right;\">\n",
       "      <th></th>\n",
       "      <th>yyyy/MM/dd</th>\n",
       "      <th>Mean(℃)</th>\n",
       "      <th>Min(℃)</th>\n",
       "      <th>Max(℃)</th>\n",
       "    </tr>\n",
       "  </thead>\n",
       "  <tbody>\n",
       "    <tr>\n",
       "      <th>0</th>\n",
       "      <td>1973-01-01</td>\n",
       "      <td>1.2</td>\n",
       "      <td>-2.5</td>\n",
       "      <td>5.6</td>\n",
       "    </tr>\n",
       "    <tr>\n",
       "      <th>1</th>\n",
       "      <td>1973-02-01</td>\n",
       "      <td>1.8</td>\n",
       "      <td>-2.5</td>\n",
       "      <td>6.7</td>\n",
       "    </tr>\n",
       "    <tr>\n",
       "      <th>2</th>\n",
       "      <td>1973-03-01</td>\n",
       "      <td>5.1</td>\n",
       "      <td>-0.6</td>\n",
       "      <td>11.4</td>\n",
       "    </tr>\n",
       "    <tr>\n",
       "      <th>3</th>\n",
       "      <td>1973-04-01</td>\n",
       "      <td>12.8</td>\n",
       "      <td>6.8</td>\n",
       "      <td>18.7</td>\n",
       "    </tr>\n",
       "    <tr>\n",
       "      <th>4</th>\n",
       "      <td>1973-05-01</td>\n",
       "      <td>16.8</td>\n",
       "      <td>11.4</td>\n",
       "      <td>22.3</td>\n",
       "    </tr>\n",
       "    <tr>\n",
       "      <th>...</th>\n",
       "      <td>...</td>\n",
       "      <td>...</td>\n",
       "      <td>...</td>\n",
       "      <td>...</td>\n",
       "    </tr>\n",
       "    <tr>\n",
       "      <th>573</th>\n",
       "      <td>2020-10-01</td>\n",
       "      <td>14.0</td>\n",
       "      <td>8.7</td>\n",
       "      <td>20.2</td>\n",
       "    </tr>\n",
       "    <tr>\n",
       "      <th>574</th>\n",
       "      <td>2020-11-01</td>\n",
       "      <td>8.8</td>\n",
       "      <td>3.8</td>\n",
       "      <td>14.3</td>\n",
       "    </tr>\n",
       "    <tr>\n",
       "      <th>575</th>\n",
       "      <td>2020-12-01</td>\n",
       "      <td>0.7</td>\n",
       "      <td>-4.0</td>\n",
       "      <td>6.3</td>\n",
       "    </tr>\n",
       "    <tr>\n",
       "      <th>576</th>\n",
       "      <td>2021-01-01</td>\n",
       "      <td>-5.8</td>\n",
       "      <td>-0.4</td>\n",
       "      <td>4.7</td>\n",
       "    </tr>\n",
       "    <tr>\n",
       "      <th>577</th>\n",
       "      <td>2021-02-01</td>\n",
       "      <td>2.4</td>\n",
       "      <td>6.9</td>\n",
       "      <td>11.0</td>\n",
       "    </tr>\n",
       "  </tbody>\n",
       "</table>\n",
       "<p>578 rows × 4 columns</p>\n",
       "</div>"
      ],
      "text/plain": [
       "     yyyy/MM/dd  Mean(℃)  Min(℃)  Max(℃)\n",
       "0    1973-01-01      1.2    -2.5     5.6\n",
       "1    1973-02-01      1.8    -2.5     6.7\n",
       "2    1973-03-01      5.1    -0.6    11.4\n",
       "3    1973-04-01     12.8     6.8    18.7\n",
       "4    1973-05-01     16.8    11.4    22.3\n",
       "..          ...      ...     ...     ...\n",
       "573  2020-10-01     14.0     8.7    20.2\n",
       "574  2020-11-01      8.8     3.8    14.3\n",
       "575  2020-12-01      0.7    -4.0     6.3\n",
       "576  2021-01-01     -5.8    -0.4     4.7\n",
       "577  2021-02-01      2.4     6.9    11.0\n",
       "\n",
       "[578 rows x 4 columns]"
      ]
     },
     "execution_count": 2,
     "metadata": {},
     "output_type": "execute_result"
    }
   ],
   "source": [
    "df = pd.read_csv('./monthly_temperature.csv', encoding='cp949')\n",
    "df"
   ]
  },
  {
   "cell_type": "code",
   "execution_count": 3,
   "metadata": {},
   "outputs": [],
   "source": [
    "# 표준화\n",
    "def data_standardization(x):\n",
    "    x_np = np.asarray(x)\n",
    "    return (x_np - x_np.mean()) / x_np.std()\n",
    " \n",
    "# 너무 작거나 너무 큰 값이 학습을 방해하는 것을 방지하는 역할\n",
    "# x가 양수라는 가정 하에 최소값과 최대값을 이용하여 0~1 사이의 값으로 변환\n",
    "# Min-Max scaling\n",
    "def min_max_scaling(x):\n",
    "    x_np = np.asarray(x)\n",
    "    return (x_np - x_np.min()) / (x_np.max() - x_np.min() + 1e-7) # 1e-7은 0으로 나누는 오류 예방 목적\n",
    " \n",
    "# 정규화된 값을 원래의 값으로 변환\n",
    "def reverse_min_max_scaling(org_x, x):\n",
    "    org_x_np = np.asarray(org_x) \n",
    "    x_np = np.asarray(x)\n",
    "    \n",
    "    return (x_np * (org_x_np.max() - org_x_np.min() + 1e-7)) + org_x_np.min()"
   ]
  },
  {
   "cell_type": "code",
   "execution_count": 4,
   "metadata": {},
   "outputs": [],
   "source": [
    "input_data_column_cnt = 3  # 입력데이터의 컬럼 개수(Variable 개수)\n",
    "output_data_column_cnt = 1 # 결과데이터의 컬럼 개수\n",
    "\n",
    "seq_length = 28            # 1개 시퀀스의 길이(시계열 데이터 입력 개수)\n",
    "rnn_cell_hidden_dim = 10   # 각 셀의 (hidden) 출력 크기\n",
    "forget_bias = 1.0          # 망각편향(기본값 1.0)\n",
    "num_stacked_layers = 1     # stacked LSTM layers 개수\n",
    "keep_prob = 1.0            # dropout할 때 keep할 비율\n",
    "\n",
    "epoch_num = 1500          \n",
    "learning_rate = 0.005       # 학습률"
   ]
  },
  {
   "cell_type": "code",
   "execution_count": 5,
   "metadata": {},
   "outputs": [
    {
     "name": "stdout",
     "output_type": "stream",
     "text": [
      "<class 'pandas.core.frame.DataFrame'>\n",
      "RangeIndex: 579 entries, 0 to 578\n",
      "Data columns (total 4 columns):\n",
      " #   Column      Non-Null Count  Dtype \n",
      "---  ------      --------------  ----- \n",
      " 0   yyyy/MM/dd  579 non-null    object\n",
      " 1   Mean(℃)     579 non-null    object\n",
      " 2   Min(℃)      579 non-null    object\n",
      " 3   Max(℃)      579 non-null    object\n",
      "dtypes: object(4)\n",
      "memory usage: 18.2+ KB\n",
      "temperature_info.shape:  (578, 3)\n",
      "temperature_info[0]:  [ 1.2 -2.5  5.6]\n",
      "yyyy/MM 값 삭제 후 rea_dateframe.info\n",
      "<class 'pandas.core.frame.DataFrame'>\n",
      "RangeIndex: 579 entries, 0 to 578\n",
      "Data columns (total 3 columns):\n",
      " #   Column   Non-Null Count  Dtype \n",
      "---  ------   --------------  ----- \n",
      " 0   Mean(℃)  579 non-null    object\n",
      " 1   Min(℃)   579 non-null    object\n",
      " 2   Max(℃)   579 non-null    object\n",
      "dtypes: object(3)\n",
      "memory usage: 13.7+ KB\n"
     ]
    }
   ],
   "source": [
    "temperature_file_name = 'monthly_temperature.csv'\n",
    "names = ['yyyy/MM/dd','Mean(℃)','Min(℃)','Max(℃)']\n",
    "\n",
    "raw_dataframe = pd.read_csv(temperature_file_name, names=names, encoding='cp949')\n",
    "raw_dataframe.info() # 데이터 정보 출력\n",
    "\n",
    "# 날짜열 제거\n",
    "del raw_dataframe['yyyy/MM/dd']\n",
    "\n",
    "temperature_info = raw_dataframe.values[1:].astype(np.float)\n",
    "\n",
    "print(\"temperature_info.shape: \", temperature_info.shape)\n",
    "print(\"temperature_info[0]: \", temperature_info[0])\n",
    "print('yyyy/MM 값 삭제 후 rea_dateframe.info')\n",
    "\n",
    "raw_dataframe.info() # 데이터 정보 출력"
   ]
  },
  {
   "cell_type": "code",
   "execution_count": 6,
   "metadata": {},
   "outputs": [
    {
     "name": "stdout",
     "output_type": "stream",
     "text": [
      "temperature.shape:  (578, 2)\n",
      "temperature[0]:  [ 1.2 -2.5]\n",
      "norm_temp[0]:  [0.29842932 0.20157068]\n",
      "==========\n",
      "max_temperature.shape:  (578, 1)\n",
      "max_temperature[0]:  [5.6]\n",
      "norm_max_temp[0]:  [0.15805471]\n",
      "==========\n",
      "x.shape:  (578, 3)\n",
      "x[0]:  [0.29842932 0.20157068 0.15805471]\n",
      "x[-1]:  [0.32984293 0.44764398 0.32218845]\n",
      "==========\n",
      "y[0]:  [0.29842932]\n",
      "y[-1]:  [0.32984293]\n"
     ]
    }
   ],
   "source": [
    "# 데이터 전처리\n",
    "temperature = temperature_info[:,:-1]\n",
    "norm_temp = min_max_scaling(temperature)\n",
    "\n",
    "print(\"temperature.shape: \", temperature.shape)\n",
    "print(\"temperature[0]: \", temperature[0])\n",
    "print(\"norm_temp[0]: \", norm_temp[0])\n",
    "print(\"=\"*10)\n",
    "\n",
    "max_temperature = temperature_info[:,-1:]\n",
    "norm_max_temp = min_max_scaling(max_temperature)\n",
    "\n",
    "print(\"max_temperature.shape: \", max_temperature.shape)\n",
    "print(\"max_temperature[0]: \", max_temperature[0])\n",
    "print(\"norm_max_temp[0]: \", norm_max_temp[0])\n",
    "print(\"=\"*10)\n",
    "\n",
    "x = np.concatenate((norm_temp, norm_max_temp), axis=1)\n",
    "print(\"x.shape: \", x.shape)\n",
    "print(\"x[0]: \", x[0])    # x의 첫 값\n",
    "print(\"x[-1]: \", x[-1])  # x의 마지막 값\n",
    "print(\"=\"*10)\n",
    "\n",
    "y = x[:, [0]]\n",
    "print(\"y[0]: \",y[0])     # y의 첫 값\n",
    "print(\"y[-1]: \",y[-1])   # y의 마지막 값"
   ]
  },
  {
   "cell_type": "code",
   "execution_count": 7,
   "metadata": {},
   "outputs": [
    {
     "name": "stdout",
     "output_type": "stream",
     "text": [
      "[[0.29842932 0.20157068 0.15805471]\n",
      " [0.31413612 0.20157068 0.19148936]\n",
      " [0.40052356 0.2513089  0.3343465 ]\n",
      " [0.60209424 0.44502618 0.556231  ]\n",
      " [0.70680628 0.56544502 0.66565349]\n",
      " [0.81151832 0.69633508 0.77203647]\n",
      " [0.96335078 0.85602094 0.94528875]\n",
      " [0.95549738 0.85340314 0.9331307 ]\n",
      " [0.78272251 0.66492146 0.7568389 ]\n",
      " [0.60994764 0.47120419 0.56231003]\n",
      " [0.42146597 0.28795811 0.34042553]\n",
      " [0.23560209 0.10209424 0.12462006]\n",
      " [0.21204188 0.07853403 0.12158055]\n",
      " [0.2460733  0.12827225 0.11246201]\n",
      " [0.37696335 0.2513089  0.28267477]\n",
      " [0.56806283 0.41623037 0.51367781]\n",
      " [0.70680628 0.55759162 0.67781155]\n",
      " [0.78272251 0.64921466 0.7568389 ]\n",
      " [0.85078534 0.78272251 0.77203647]\n",
      " [0.92146597 0.81675392 0.89665653]\n",
      " [0.78272251 0.64397906 0.77507599]\n",
      " [0.61518324 0.46858639 0.5775076 ]\n",
      " [0.42146597 0.28795811 0.35866261]\n",
      " [0.28272251 0.17277487 0.1550152 ]\n",
      " [0.23821989 0.13089005 0.10030395]\n",
      " [0.27486911 0.15445026 0.14893617]\n",
      " [0.39528796 0.2591623  0.31610942]\n",
      " [0.59162304 0.44764398 0.54407295]] -> [0.69109947]\n"
     ]
    }
   ],
   "source": [
    "dataX = [] # 입력으로 사용될 Sequence Data\n",
    "dataY = [] # 출력으로 사용\n",
    "\n",
    "for i in range(0, len(y) - seq_length):\n",
    "    _x = x[i : i+seq_length]\n",
    "    _y = y[i + seq_length] # 다음 나타날 기온(정답)\n",
    "    \n",
    "    if i == 0:\n",
    "        print(_x, \"->\", _y) # 첫번째 행만 출력해 봄\n",
    "    \n",
    "    dataX.append(_x) # dataX 리스트에 추가\n",
    "    dataY.append(_y) # dataY 리스트에 추가"
   ]
  },
  {
   "cell_type": "markdown",
   "metadata": {},
   "source": [
    "### 학습용/테스트용 데이터 생성"
   ]
  },
  {
   "cell_type": "code",
   "execution_count": 8,
   "metadata": {},
   "outputs": [],
   "source": [
    "# 전체 70%를 학습용 데이터로 사용\n",
    "train_size = int(len(dataY) * 0.7)\n",
    "\n",
    "# 나머지(30%)를 테스트용 데이터로 사용\n",
    "test_size = len(dataY) - train_size\n",
    "\n",
    "# 데이터를 잘라 학습용 데이터 생성\n",
    "trainX = np.array(dataX[0:train_size])\n",
    "trainY = np.array(dataY[0:train_size])\n",
    "\n",
    "# 데이터를 잘라 테스트용 데이터 생성\n",
    "testX = np.array(dataX[train_size:len(dataX)])\n",
    "testY = np.array(dataY[train_size:len(dataY)])"
   ]
  },
  {
   "cell_type": "code",
   "execution_count": 9,
   "metadata": {},
   "outputs": [
    {
     "name": "stdout",
     "output_type": "stream",
     "text": [
      "X:  Tensor(\"Placeholder:0\", shape=(None, 28, 3), dtype=float32)\n",
      "Y:  Tensor(\"Placeholder_1:0\", shape=(None, 1), dtype=float32)\n",
      "targets:  Tensor(\"Placeholder_2:0\", shape=(None, 1), dtype=float32)\n",
      "predictions:  Tensor(\"Placeholder_3:0\", shape=(None, 1), dtype=float32)\n"
     ]
    }
   ],
   "source": [
    "# 텐서플로우 플레이스홀더 생성\n",
    "# 입력 X, 출력 Y를 생성한다\n",
    "X = tf.placeholder(tf.float32, [None, seq_length, input_data_column_cnt])\n",
    "print(\"X: \", X)\n",
    "\n",
    "Y = tf.placeholder(tf.float32, [None, 1])\n",
    "print(\"Y: \", Y)\n",
    "\n",
    "# 검증용 측정지표를 산출하기 위한 targets, predictions를 생성한다\n",
    "targets = tf.placeholder(tf.float32, [None, 1])\n",
    "print(\"targets: \", targets)\n",
    "\n",
    "predictions = tf.placeholder(tf.float32, [None, 1])\n",
    "print(\"predictions: \", predictions)"
   ]
  },
  {
   "cell_type": "markdown",
   "metadata": {},
   "source": [
    "### LSTM 네트워크 생성"
   ]
  },
  {
   "cell_type": "code",
   "execution_count": 10,
   "metadata": {},
   "outputs": [
    {
     "name": "stdout",
     "output_type": "stream",
     "text": [
      "WARNING:tensorflow:From <ipython-input-10-6fc6c1dd802a>:19: dynamic_rnn (from tensorflow.python.ops.rnn) is deprecated and will be removed in a future version.\n",
      "Instructions for updating:\n",
      "Please use `keras.layers.RNN(cell)`, which is equivalent to this API\n"
     ]
    },
    {
     "name": "stderr",
     "output_type": "stream",
     "text": [
      "C:\\Users\\LG\\anaconda3\\lib\\site-packages\\tensorflow\\python\\keras\\layers\\legacy_rnn\\rnn_cell_impl.py:903: UserWarning: `tf.nn.rnn_cell.LSTMCell` is deprecated and will be removed in a future version. This class is equivalent as `tf.keras.layers.LSTMCell`, and will be replaced by that in Tensorflow 2.0.\n",
      "  warnings.warn(\"`tf.nn.rnn_cell.LSTMCell` is deprecated and will be \"\n"
     ]
    },
    {
     "name": "stdout",
     "output_type": "stream",
     "text": [
      "WARNING:tensorflow:From C:\\Users\\LG\\anaconda3\\lib\\site-packages\\tensorflow\\python\\keras\\layers\\legacy_rnn\\rnn_cell_impl.py:981: calling Zeros.__init__ (from tensorflow.python.ops.init_ops) with dtype is deprecated and will be removed in a future version.\n",
      "Instructions for updating:\n",
      "Call initializer instance with the dtype argument instead of passing it to the constructor\n"
     ]
    },
    {
     "name": "stderr",
     "output_type": "stream",
     "text": [
      "C:\\Users\\LG\\anaconda3\\lib\\site-packages\\tensorflow\\python\\keras\\engine\\base_layer_v1.py:1727: UserWarning: `layer.add_variable` is deprecated and will be removed in a future version. Please use `layer.add_weight` method instead.\n",
      "  warnings.warn('`layer.add_variable` is deprecated and '\n"
     ]
    },
    {
     "name": "stdout",
     "output_type": "stream",
     "text": [
      "hypothesis:  Tensor(\"rnn/transpose_1:0\", shape=(None, 28, 10), dtype=float32)\n"
     ]
    },
    {
     "name": "stderr",
     "output_type": "stream",
     "text": [
      "C:\\Users\\LG\\anaconda3\\lib\\site-packages\\tensorflow\\python\\keras\\legacy_tf_layers\\core.py:171: UserWarning: `tf.layers.dense` is deprecated and will be removed in a future version. Please use `tf.keras.layers.Dense` instead.\n",
      "  warnings.warn('`tf.layers.dense` is deprecated and '\n",
      "C:\\Users\\LG\\anaconda3\\lib\\site-packages\\tensorflow\\python\\keras\\engine\\base_layer_v1.py:1719: UserWarning: `layer.apply` is deprecated and will be removed in a future version. Please use `layer.__call__` method instead.\n",
      "  warnings.warn('`layer.apply` is deprecated and '\n"
     ]
    }
   ],
   "source": [
    "def lstm_cell():\n",
    "    # LSTM셀을 생성\n",
    "    # num_units: 각 Cell 출력 크기\n",
    "    # forget_bias:  to the biases of the forget gate \n",
    "    #              (default: 1)  in order to reduce the scale of forgetting in the beginning of the training.\n",
    "    # state_is_tuple: True ==> accepted and returned states are 2-tuples of the c_state and m_state.\n",
    "    # state_is_tuple: False ==> they are concatenated along the column axis.\n",
    "    cell = tf.compat.v1.nn.rnn_cell.LSTMCell(num_units=rnn_cell_hidden_dim, \n",
    "                                        forget_bias=forget_bias, state_is_tuple=True, activation=tf.nn.softsign)\n",
    "    if keep_prob < 1.0:\n",
    "        cell = tf.compat.v1.nn.rnn_cell.DropoutWrapper(cell, output_keep_prob=keep_prob)\n",
    "    return cell\n",
    "\n",
    "# num_stacked_layers개의 층으로 쌓인 Stacked RNNs 생성\n",
    "stackedRNNs = [lstm_cell() for _ in range(num_stacked_layers)]\n",
    "multi_cells = tf.compat.v1.nn.rnn_cell.MultiRNNCell(stackedRNNs, state_is_tuple=True) if num_stacked_layers > 1 else lstm_cell()\n",
    "\n",
    "# RNN Cell(여기서는 LSTM셀임)들을 연결\n",
    "hypothesis, _states = tf.compat.v1.nn.dynamic_rnn(multi_cells, X, dtype=tf.float32)\n",
    "print(\"hypothesis: \", hypothesis)\n",
    "\n",
    "# 과거 기온을 이용해서 다음날의 기온을 예측하기 때문에 MANY-TO-ONE 형태\n",
    "hypothesis = tf.compat.v1.layers.dense(inputs=hypothesis[:, -1], units=1, activation=tf.nn.relu)"
   ]
  },
  {
   "cell_type": "code",
   "execution_count": 11,
   "metadata": {},
   "outputs": [],
   "source": [
    "# 손실함수로 평균제곱오차 사용\n",
    "loss = tf.reduce_sum(tf.square(hypothesis - Y))\n",
    "\n",
    "# 최적화함수로 AdamOptimizer 사용\n",
    "optimizer = tf.train.AdamOptimizer(learning_rate)\n",
    "\n",
    "train = optimizer.minimize(loss)\n",
    "\n",
    "# RMSE(Root Mean Square Error)\n",
    "# 제곱오차의 평균을 구하고 다시 제곱근을 구해서 평균 오차 계산\n",
    "rmse = tf.sqrt(tf.reduce_mean(tf.squared_difference(targets, predictions)))"
   ]
  },
  {
   "cell_type": "code",
   "execution_count": 12,
   "metadata": {},
   "outputs": [
    {
     "name": "stdout",
     "output_type": "stream",
     "text": [
      "학습을 시작합니다...\n",
      "epoch: 100, train_error(A): 0.1869046539068222, test_error(B): 0.19135485589504242, B-A: 0.004450201988220215\n",
      "epoch: 200, train_error(A): 0.04109957441687584, test_error(B): 0.04564877226948738, B-A: 0.004549197852611542\n",
      "epoch: 300, train_error(A): 0.03627297654747963, test_error(B): 0.04086718708276749, B-A: 0.004594210535287857\n",
      "epoch: 400, train_error(A): 0.035150062292814255, test_error(B): 0.039462022483348846, B-A: 0.004311960190534592\n",
      "epoch: 500, train_error(A): 0.034406065940856934, test_error(B): 0.03839866444468498, B-A: 0.003992598503828049\n",
      "epoch: 600, train_error(A): 0.033740293234586716, test_error(B): 0.03744424134492874, B-A: 0.0037039481103420258\n",
      "epoch: 700, train_error(A): 0.03309622034430504, test_error(B): 0.03654767945408821, B-A: 0.0034514591097831726\n",
      "epoch: 800, train_error(A): 0.03246458247303963, test_error(B): 0.03570527955889702, B-A: 0.0032406970858573914\n",
      "epoch: 900, train_error(A): 0.031870562583208084, test_error(B): 0.03496309369802475, B-A: 0.0030925311148166656\n",
      "epoch: 1000, train_error(A): 0.03136639669537544, test_error(B): 0.03439387306571007, B-A: 0.0030274763703346252\n",
      "epoch: 1100, train_error(A): 0.030996588990092278, test_error(B): 0.034046564251184464, B-A: 0.003049975261092186\n",
      "epoch: 1200, train_error(A): 0.030748041346669197, test_error(B): 0.03388429060578346, B-A: 0.0031362492591142654\n",
      "epoch: 1300, train_error(A): 0.030567767098546028, test_error(B): 0.03381115198135376, B-A: 0.0032433848828077316\n",
      "epoch: 1400, train_error(A): 0.030417395755648613, test_error(B): 0.03377242758870125, B-A: 0.003355031833052635\n",
      "epoch: 1500, train_error(A): 0.030280297622084618, test_error(B): 0.03373749181628227, B-A: 0.0034571941941976547\n",
      "elapsed_time: 0:00:32.170053\n",
      "elapsed_time per epoch: 0:00:00.021447\n"
     ]
    }
   ],
   "source": [
    "train_error_summary = [] # 학습용 데이터의 오류를 중간 기록\n",
    "test_error_summary = []  # 테스트용 데이터의 오류를 중간 기록\n",
    "test_predict = ''        # 테스트용데이터로 예측한 결과\n",
    "\n",
    "sess = tf.Session()\n",
    "sess.run(tf.global_variables_initializer())\n",
    "\n",
    "# 학습\n",
    "start_time = datetime.datetime.now() # 시작시간을 기록한다\n",
    "print('학습을 시작합니다...')\n",
    "\n",
    "for epoch in range(epoch_num):\n",
    "    _, _loss = sess.run([train, loss], feed_dict={X: trainX, Y: trainY})\n",
    "    if ((epoch+1) % 100 == 0) or (epoch == epoch_num-1): # 100번째마다 또는 마지막 epoch인 경우\n",
    "        # 학습용데이터로 rmse오차를 구한다\n",
    "        train_predict = sess.run(hypothesis, feed_dict={X: trainX})\n",
    "        train_error = sess.run(rmse, feed_dict={targets: trainY, predictions: train_predict})\n",
    "        train_error_summary.append(train_error)\n",
    "\n",
    "        # 테스트용데이터로 rmse오차를 구한다\n",
    "        test_predict = sess.run(hypothesis, feed_dict={X: testX})\n",
    "        test_error = sess.run(rmse, feed_dict={targets: testY, predictions: test_predict})\n",
    "        test_error_summary.append(test_error)\n",
    "        \n",
    "        # 현재 오류를 출력한다\n",
    "        print(\"epoch: {}, train_error(A): {}, test_error(B): {}, B-A: {}\".format(epoch+1, train_error, test_error, test_error-train_error))\n",
    "        \n",
    "end_time = datetime.datetime.now()   # 종료시간을 기록한다\n",
    "elapsed_time = end_time - start_time # 경과시간을 구한다\n",
    "\n",
    "print('elapsed_time:',elapsed_time)\n",
    "print('elapsed_time per epoch:',elapsed_time/epoch_num)"
   ]
  },
  {
   "cell_type": "code",
   "execution_count": 13,
   "metadata": {},
   "outputs": [
    {
     "name": "stdout",
     "output_type": "stream",
     "text": [
      "input_data_column_cnt: 3,output_data_column_cnt: 1,seq_length: 28,rnn_cell_hidden_dim: 10,forget_bias: 1.0,num_stacked_layers: 1,keep_prob: 1.0,epoch_num: 1500,learning_rate: 0.005,train_error: 0.030280298,test_error: 0.03373749,min_test_error: 0.03373749\n"
     ]
    },
    {
     "data": {
      "image/png": "[encoded data removed]",
      "text/plain": [
       "<Figure size 432x288 with 1 Axes>"
      ]
     },
     "metadata": {
      "needs_background": "light"
     },
     "output_type": "display_data"
    },
    {
     "data": {
      "image/png": "[encoded data removed]",
      "text/plain": [
       "<Figure size 432x288 with 1 Axes>"
      ]
     },
     "metadata": {
      "needs_background": "light"
     },
     "output_type": "display_data"
    }
   ],
   "source": [
    "# 하이퍼파라미터 출력\n",
    "print('input_data_column_cnt:', input_data_column_cnt, end='')\n",
    "print(',output_data_column_cnt:', output_data_column_cnt, end='')\n",
    "\n",
    "print(',seq_length:', seq_length, end='')\n",
    "print(',rnn_cell_hidden_dim:', rnn_cell_hidden_dim, end='')\n",
    "print(',forget_bias:', forget_bias, end='')\n",
    "print(',num_stacked_layers:', num_stacked_layers, end='')\n",
    "print(',keep_prob:', keep_prob, end='')\n",
    "\n",
    "print(',epoch_num:', epoch_num, end='')\n",
    "print(',learning_rate:', learning_rate, end='')\n",
    "\n",
    "print(',train_error:', train_error_summary[-1], end='')\n",
    "print(',test_error:', test_error_summary[-1], end='')\n",
    "print(',min_test_error:', np.min(test_error_summary))\n",
    "\n",
    "# 결과 그래프 출력\n",
    "plt.figure(1)\n",
    "plt.plot(train_error_summary, 'gold')\n",
    "plt.plot(test_error_summary, 'b')\n",
    "plt.xlabel('Epoch(x100)')\n",
    "plt.ylabel('Root Mean Square Error')\n",
    "\n",
    "plt.figure(2)\n",
    "plt.plot(testY, 'r')\n",
    "plt.plot(test_predict, 'b')\n",
    "plt.xlabel('Time Period')\n",
    "plt.ylabel('Temperature')\n",
    "plt.show()"
   ]
  },
  {
   "cell_type": "code",
   "execution_count": 14,
   "metadata": {
    "scrolled": true
   },
   "outputs": [
    {
     "name": "stdout",
     "output_type": "stream",
     "text": [
      "recent_data.shape: (1, 28, 3)\n",
      "recent_data: [[[0.47905759 0.34554974 0.42553191]\n",
      "  [0.29581152 0.17801047 0.17933131]\n",
      "  [0.27486911 0.14136126 0.17629179]\n",
      "  [0.32984293 0.19895288 0.23100304]\n",
      "  [0.46335078 0.31151832 0.40729483]\n",
      "  [0.58115183 0.42931937 0.53495441]\n",
      "  [0.7539267  0.57591623 0.76291793]\n",
      "  [0.82460733 0.70418848 0.80243161]\n",
      "  [0.91623036 0.82984293 0.87234042]\n",
      "  [0.95287958 0.85340314 0.93009118]\n",
      "  [0.83769633 0.73821989 0.79331307]\n",
      "  [0.68062827 0.55759162 0.63829787]\n",
      "  [0.4973822  0.35863874 0.44680851]\n",
      "  [0.34031414 0.22251309 0.23404255]\n",
      "  [0.34031414 0.23821989 0.2218845 ]\n",
      "  [0.36125654 0.23560209 0.26443769]\n",
      "  [0.47382199 0.31675393 0.41641337]\n",
      "  [0.55235602 0.39005235 0.5106383 ]\n",
      "  [0.73036649 0.60209424 0.69300912]\n",
      "  [0.86387434 0.7486911  0.83890577]\n",
      "  [0.86125654 0.78534031 0.78723404]\n",
      "  [0.96335078 0.88743455 0.92097264]\n",
      "  [0.79842932 0.70157068 0.75075988]\n",
      "  [0.63350785 0.4947644  0.60182371]\n",
      "  [0.4973822  0.36649215 0.4224924 ]\n",
      "  [0.28534031 0.16230366 0.17933131]\n",
      "  [0.11518325 0.2565445  0.13069909]\n",
      "  [0.32984293 0.44764398 0.32218845]]]\n",
      "test_predict_accuracy [0.4974417]\n",
      "Average temperature is [8.802274]\n"
     ]
    }
   ],
   "source": [
    "# sequence length만큼의 가장 최근 데이터를 슬라이싱한다\n",
    "recent_data = np.array([x[len(x)-seq_length : ]])\n",
    "print(\"recent_data.shape:\", recent_data.shape)\n",
    "print(\"recent_data:\", recent_data)\n",
    "\n",
    "# 다음달 기온 예측\n",
    "test_predict = sess.run(hypothesis, feed_dict={X: recent_data})\n",
    "print(\"test_predict_accuracy\", test_predict[0])\n",
    "\n",
    "test_predict = reverse_min_max_scaling(temperature, test_predict) # 기온 데이터 역정규화한다\n",
    "print(\"Average temperature is\", test_predict[0]) # 예측한 기온을 출력한다"
   ]
  },
  {
   "cell_type": "code",
   "execution_count": 16,
   "metadata": {},
   "outputs": [
    {
     "data": {
      "image/png": "[encoded data removed]",
      "text/plain": [
       "<Figure size 720x360 with 1 Axes>"
      ]
     },
     "metadata": {
      "needs_background": "light"
     },
     "output_type": "display_data"
    }
   ],
   "source": [
    "data = pd.read_csv('./monthly_temperature_only_mean.csv', index_col=0, encoding='cp949')\n",
    "\n",
    "data.index = pd.to_datetime(data.index)\n",
    "\n",
    "fig = plt.figure(figsize=(10, 5))\n",
    "ax = fig.add_subplot(1, 1, 1)\n",
    "\n",
    "ax.plot(data['Avg(℃)'], color='g', label='1973~2020 March')\n",
    "\n",
    "plt.scatter(pd.to_datetime(\"2021-03-01\"), 8.802, color='r', label='2021 March')\n",
    "plt.legend()\n",
    "plt.show()"
   ]
  },
  {
   "cell_type": "code",
   "execution_count": null,
   "metadata": {},
   "outputs": [],
   "source": []
  }
 ],
 "metadata": {
  "kernelspec": {
   "display_name": "Python 3",
   "language": "python",
   "name": "python3"
  },
  "language_info": {
   "codemirror_mode": {
    "name": "ipython",
    "version": 3
   },
   "file_extension": ".py",
   "mimetype": "text/x-python",
   "name": "python",
   "nbconvert_exporter": "python",
   "pygments_lexer": "ipython3",
   "version": "3.8.5"
  }
 },
 "nbformat": 4,
 "nbformat_minor": 4
}
